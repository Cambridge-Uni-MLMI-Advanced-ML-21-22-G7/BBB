{
 "cells": [
  {
   "cell_type": "code",
   "execution_count": 1,
   "metadata": {},
   "outputs": [],
   "source": [
    "import os\n",
    "import json\n",
    "from glob import glob\n",
    "from collections import namedtuple\n",
    "\n",
    "import torch\n",
    "import numpy as np\n",
    "import matplotlib.pyplot as plt\n",
    "\n",
    "from bbb.utils.pytorch_setup import DEVICE\n",
    "from bbb.config.constants import KL_REWEIGHTING_TYPES, PRIOR_TYPES, VP_VARIANCE_TYPES\n",
    "from bbb.config.parameters import Parameters, PriorParameters\n",
    "from bbb.models.dnn import ClassificationDNN\n",
    "from bbb.models.bnn import ClassificationBNN\n",
    "from bbb.data import load_mnist"
   ]
  },
  {
   "cell_type": "markdown",
   "metadata": {},
   "source": [
    "## Helper Classes"
   ]
  },
  {
   "cell_type": "code",
   "execution_count": 2,
   "metadata": {},
   "outputs": [],
   "source": [
    "ModelDetails = namedtuple('ModelDetails', 'dir mclass')"
   ]
  },
  {
   "cell_type": "markdown",
   "metadata": {},
   "source": [
    "## Trained Classification Models"
   ]
  },
  {
   "cell_type": "code",
   "execution_count": 3,
   "metadata": {},
   "outputs": [],
   "source": [
    "MODEL_DETAILS_DICT = {\n",
    "    # BNN\n",
    "    \"bnn_1200\": ModelDetails(\"../saved_models/BBB_classification/2022-03-15-09.18.07\", ClassificationBNN),\n",
    "    \"bnn_800\": ModelDetails(\"../saved_models/BBB_classification/2022-03-15-14.25.46\", ClassificationBNN),\n",
    "    \"bnn_400\": ModelDetails(\"../saved_models/BBB_classification/2022-03-15-14.26.34\", ClassificationBNN),\n",
    "    # DNN - no dropout\n",
    "    \"dnn_1200\": ModelDetails(\"../saved_models/DNN_classification/2022-03-15-14.28.25\", ClassificationDNN),\n",
    "    \"dnn_800\": ModelDetails(\"../saved_models/DNN_classification/2022-03-15-16.06.09\", ClassificationDNN),\n",
    "    \"dnn_400\": ModelDetails(\"../saved_models/DNN_classification/2022-03-15-16.10.34\", ClassificationDNN),\n",
    "    # DNN - dropout\n",
    "    \"dnn_do_1200\": ModelDetails(\"../saved_models/DNN_classification/2022-03-15-15.21.46\", ClassificationDNN),\n",
    "    \"dnn_do_1200\": ModelDetails(\"../saved_models/DNN_classification/2022-03-15-15.58.04\", ClassificationDNN),\n",
    "    \"dnn_do_1200\": ModelDetails(\"../saved_models/DNN_classification/2022-03-15-16.26.18\", ClassificationDNN),\n",
    "}"
   ]
  },
  {
   "cell_type": "markdown",
   "metadata": {},
   "source": [
    "## Set Model"
   ]
  },
  {
   "cell_type": "code",
   "execution_count": 4,
   "metadata": {},
   "outputs": [
    {
     "data": {
      "text/plain": [
       "ModelDetails(dir='../saved_models/BBB_classification/2022-03-15-09.18.07', mclass=<class 'bbb.models.bnn.ClassificationBNN'>)"
      ]
     },
     "execution_count": 4,
     "metadata": {},
     "output_type": "execute_result"
    }
   ],
   "source": [
    "MODEL = \"bnn_1200\"\n",
    "MODEL_DETAILS = MODEL_DETAILS_DICT[MODEL]\n",
    "MODEL_DETAILS"
   ]
  },
  {
   "cell_type": "markdown",
   "metadata": {},
   "source": [
    "## Load Parameters"
   ]
  },
  {
   "cell_type": "code",
   "execution_count": 5,
   "metadata": {},
   "outputs": [
    {
     "data": {
      "text/plain": [
       "Parameters(name='BBB_classification', input_dim=784, output_dim=10, batch_size=128, epochs=300, hidden_units=1200, hidden_layers=3, lr=0.0001, step_size=75, opt_choice='Adam', gamma=0.1, weight_mu_range=[-0.2, 0.2], weight_rho_range=[-5, -4], prior_params=PriorParameters(w_sigma=1.0, b_sigma=1.0, w_sigma_2=0.2, b_sigma_2=0.2, w_mixture_weight=0.5, b_mixture_weight=0.5), elbo_samples=2, inference_samples=10, regression_likelihood_noise=None, kl_reweighting_type=1, vp_variance_type=1, prior_type=0, local_reparam_trick=False, dropout=False, dropout_p=None, early_stopping=False, early_stopping_thresh=0, model_save_basedir='./saved_models', tensorboard_save_dir='./tensorboard')"
      ]
     },
     "execution_count": 5,
     "metadata": {},
     "output_type": "execute_result"
    }
   ],
   "source": [
    "with open(os.path.join(MODEL_DETAILS.dir, 'params.txt'), 'r') as f:\n",
    "    params_dict = json.load(f)\n",
    "\n",
    "# Need to deserialise the prior_params into a PriorParameters object\n",
    "if params_dict['prior_params']:\n",
    "    params_dict['prior_params'] = PriorParameters(**params_dict['prior_params'])\n",
    "\n",
    "params = Parameters(**params_dict)\n",
    "params"
   ]
  },
  {
   "cell_type": "markdown",
   "metadata": {},
   "source": [
    "## Load Data"
   ]
  },
  {
   "cell_type": "code",
   "execution_count": 6,
   "metadata": {},
   "outputs": [
    {
     "name": "stderr",
     "output_type": "stream",
     "text": [
      "/Users/alanclark/git/BBB/.venv/lib/python3.9/site-packages/torchvision/datasets/mnist.py:498: UserWarning: The given NumPy array is not writeable, and PyTorch does not support non-writeable tensors. This means you can write to the underlying (supposedly non-writeable) NumPy array using the tensor. You may want to copy the array to protect its data or make it writeable before converting it to a tensor. This type of warning will be suppressed for the rest of this program. (Triggered internally at  ../torch/csrc/utils/tensor_numpy.cpp:180.)\n",
      "  return torch.from_numpy(parsed.astype(m[2], copy=False)).view(*s)\n"
     ]
    }
   ],
   "source": [
    "X_val = load_mnist(train=False, batch_size=params.batch_size, shuffle=True)"
   ]
  },
  {
   "cell_type": "markdown",
   "metadata": {},
   "source": [
    "## Load Model"
   ]
  },
  {
   "cell_type": "code",
   "execution_count": 7,
   "metadata": {},
   "outputs": [
    {
     "name": "stderr",
     "output_type": "stream",
     "text": [
      "2022-03-15 17:42:59,387 - bbb.models.layers - INFO - Weights Prior: Gaussian with mean 0 and variance 1.0\n",
      "2022-03-15 17:42:59,388 - bbb.models.layers - INFO - Biases Prior: Gaussian with mean 0 and variance 1.0\n",
      "2022-03-15 17:42:59,404 - bbb.models.layers - INFO - Weights Prior: Gaussian with mean 0 and variance 1.0\n",
      "2022-03-15 17:42:59,404 - bbb.models.layers - INFO - Biases Prior: Gaussian with mean 0 and variance 1.0\n",
      "2022-03-15 17:42:59,407 - bbb.models.layers - INFO - Weights Prior: Gaussian with mean 0 and variance 1.0\n",
      "2022-03-15 17:42:59,407 - bbb.models.layers - INFO - Biases Prior: Gaussian with mean 0 and variance 1.0\n"
     ]
    },
    {
     "data": {
      "text/plain": [
       "<All keys matched successfully>"
      ]
     },
     "execution_count": 7,
     "metadata": {},
     "output_type": "execute_result"
    }
   ],
   "source": [
    "net = MODEL_DETAILS.mclass(params=params, eval_mode=True).to(DEVICE)\n",
    "net.model.load_state_dict(torch.load(os.path.join(MODEL_DETAILS.dir, 'model.pt'), map_location=torch.device('cpu')))"
   ]
  },
  {
   "cell_type": "markdown",
   "metadata": {},
   "source": [
    "## Evaluate"
   ]
  },
  {
   "cell_type": "code",
   "execution_count": 8,
   "metadata": {},
   "outputs": [
    {
     "data": {
      "text/plain": [
       "tensor(0.9842)"
      ]
     },
     "execution_count": 8,
     "metadata": {},
     "output_type": "execute_result"
    }
   ],
   "source": [
    "net.evaluate(X_val)"
   ]
  },
  {
   "cell_type": "markdown",
   "metadata": {},
   "source": [
    "## Recorded Metrics"
   ]
  },
  {
   "cell_type": "code",
   "execution_count": 9,
   "metadata": {},
   "outputs": [],
   "source": [
    "eval_metric = np.load(os.path.join(MODEL_DETAILS.dir, 'eval_metric.npy'))"
   ]
  },
  {
   "cell_type": "code",
   "execution_count": 10,
   "metadata": {},
   "outputs": [
    {
     "data": {
      "text/plain": [
       "[<matplotlib.lines.Line2D at 0x14228d5e0>]"
      ]
     },
     "execution_count": 10,
     "metadata": {},
     "output_type": "execute_result"
    },
    {
     "data": {
      "image/png": "[encoded data removed]",
      "text/plain": [
       "<Figure size 720x720 with 1 Axes>"
      ]
     },
     "metadata": {
      "needs_background": "light"
     },
     "output_type": "display_data"
    }
   ],
   "source": [
    "fig, ax = plt.subplots(1, 1, figsize=(10,10))\n",
    "ax.plot(eval_metric)"
   ]
  },
  {
   "cell_type": "code",
   "execution_count": 11,
   "metadata": {},
   "outputs": [],
   "source": [
    "loss = np.load(os.path.join(MODEL_DETAILS.dir, 'loss.npy'))"
   ]
  },
  {
   "cell_type": "code",
   "execution_count": 12,
   "metadata": {},
   "outputs": [
    {
     "data": {
      "text/plain": [
       "[<matplotlib.lines.Line2D at 0x14237dc10>]"
      ]
     },
     "execution_count": 12,
     "metadata": {},
     "output_type": "execute_result"
    },
    {
     "data": {
      "image/png": "[encoded data removed]",
      "text/plain": [
       "<Figure size 720x720 with 1 Axes>"
      ]
     },
     "metadata": {
      "needs_background": "light"
     },
     "output_type": "display_data"
    }
   ],
   "source": [
    "fig, ax = plt.subplots(1, 1, figsize=(10,10))\n",
    "ax.plot(loss)"
   ]
  },
  {
   "cell_type": "code",
   "execution_count": null,
   "metadata": {},
   "outputs": [],
   "source": []
  }
 ],
 "metadata": {
  "interpreter": {
   "hash": "dd650fa3100fc8ae63c54d721de3eeb6dccc3e5cc10ee85e939f889f619211cb"
  },
  "kernelspec": {
   "display_name": "Python 3.9.7 ('.venv': venv)",
   "language": "python",
   "name": "python3"
  },
  "language_info": {
   "codemirror_mode": {
    "name": "ipython",
    "version": 3
   },
   "file_extension": ".py",
   "mimetype": "text/x-python",
   "name": "python",
   "nbconvert_exporter": "python",
   "pygments_lexer": "ipython3",
   "version": "3.9.10"
  },
  "orig_nbformat": 4
 },
 "nbformat": 4,
 "nbformat_minor": 2
}
