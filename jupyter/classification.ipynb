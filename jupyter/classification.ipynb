{
 "cells": [
  {
   "cell_type": "code",
   "execution_count": 43,
   "metadata": {},
   "outputs": [],
   "source": [
    "import os\n",
    "import json\n",
    "from glob import glob\n",
    "from collections import namedtuple\n",
    "\n",
    "import numpy as np\n",
    "import matplotlib.pyplot as plt\n",
    "\n",
    "from bbb.utils.pytorch_setup import DEVICE\n",
    "from bbb.config.parameters import Parameters, PriorParameters\n",
    "from bbb.models.dnn import ClassificationDNN\n",
    "from bbb.models.bnn import ClassificationBNN\n",
    "from bbb.data import load_mnist"
   ]
  },
  {
   "cell_type": "markdown",
   "metadata": {},
   "source": [
    "## Helper Classes"
   ]
  },
  {
   "cell_type": "code",
   "execution_count": 22,
   "metadata": {},
   "outputs": [],
   "source": [
    "ModelDetails = namedtuple('ModelDetails', 'dir mclass')"
   ]
  },
  {
   "cell_type": "markdown",
   "metadata": {},
   "source": [
    "## Trained Classification Models"
   ]
  },
  {
   "cell_type": "code",
   "execution_count": 31,
   "metadata": {},
   "outputs": [],
   "source": [
    "MODEL_DETAILS_DICT = {\n",
    "    # BNN\n",
    "    \"bnn_1200\": ModelDetails(\"saved_models/BBB_classification/2022-03-15-09.18.07\", ClassificationBNN),\n",
    "    \"bnn_800\": ModelDetails(\"saved_models/BBB_classification/2022-03-15-14.25.46\", ClassificationBNN),\n",
    "    \"bnn_400\": ModelDetails(\"saved_models/BBB_classification/2022-03-15-14.26.34\", ClassificationBNN),\n",
    "    # DNN - no dropout\n",
    "    \"dnn_1200\": ModelDetails(\"saved_models/DNN_classification/2022-03-15-14.28.25\", ClassificationDNN),\n",
    "    \"dnn_1200\": ModelDetails(\"saved_models/DNN_classification/2022-03-15-16.06.09\", ClassificationDNN),\n",
    "    \"dnn_1200\": ModelDetails(\"saved_models/DNN_classification/2022-03-15-16.10.34\", ClassificationDNN),\n",
    "    # DNN - dropout\n",
    "    \"dnn_do_1200\": ModelDetails(\"saved_models/DNN_classification/2022-03-15-15.21.46\", ClassificationDNN),\n",
    "    \"dnn_do_1200\": ModelDetails(\"saved_models/DNN_classification/2022-03-15-15.58.04\", ClassificationDNN),\n",
    "    \"dnn_do_1200\": ModelDetails(\"saved_models/DNN_classification/2022-03-15-16.26.18\", ClassificationDNN),\n",
    "}"
   ]
  },
  {
   "cell_type": "markdown",
   "metadata": {},
   "source": [
    "## Set Model"
   ]
  },
  {
   "cell_type": "code",
   "execution_count": 38,
   "metadata": {},
   "outputs": [],
   "source": [
    "MODEL = \"bnn_1200\"\n",
    "MODEL_DETAILS = MODEL_DETAILS_DICT[MODEL]"
   ]
  },
  {
   "cell_type": "markdown",
   "metadata": {},
   "source": [
    "## Load Parameters"
   ]
  },
  {
   "cell_type": "code",
   "execution_count": 52,
   "metadata": {},
   "outputs": [],
   "source": [
    "with open(os.path.join(MODEL_DETAILS.dir, 'params.txt'), 'r') as f:\n",
    "    params_dict = json.load(f)\n",
    "\n",
    "# Need to deserialise the prior_params into a PriorParameters object\n",
    "if params_dict['prior_params']:\n",
    "    params_dict['prior_params'] = PriorParameters(**params_dict['prior_params'])\n",
    "\n",
    "params = Parameters(**params_dict)"
   ]
  },
  {
   "cell_type": "markdown",
   "metadata": {},
   "source": [
    "## Load Data"
   ]
  },
  {
   "cell_type": "code",
   "execution_count": null,
   "metadata": {},
   "outputs": [],
   "source": [
    "X_val = load_mnist(train=False, batch_size=params.batch_size, shuffle=True)"
   ]
  },
  {
   "cell_type": "markdown",
   "metadata": {},
   "source": [
    "## Load Model"
   ]
  },
  {
   "cell_type": "code",
   "execution_count": 53,
   "metadata": {},
   "outputs": [
    {
     "name": "stderr",
     "output_type": "stream",
     "text": [
      "2022-03-15 16:55:51,988 - bbb.models.layers - INFO - Weights Prior: Gaussian with mean 0 and variance 1.0\n",
      "2022-03-15 16:55:51,993 - bbb.models.layers - INFO - Biases Prior: Gaussian with mean 0 and variance 1.0\n",
      "2022-03-15 16:55:52,048 - bbb.models.layers - INFO - Weights Prior: Gaussian with mean 0 and variance 1.0\n",
      "2022-03-15 16:55:52,051 - bbb.models.layers - INFO - Biases Prior: Gaussian with mean 0 and variance 1.0\n",
      "2022-03-15 16:55:52,052 - bbb.models.layers - INFO - Weights Prior: Gaussian with mean 0 and variance 1.0\n",
      "2022-03-15 16:55:52,052 - bbb.models.layers - INFO - Biases Prior: Gaussian with mean 0 and variance 1.0\n"
     ]
    }
   ],
   "source": [
    "model = MODEL_DETAILS.mclass(params=params, eval_mode=True).to(DEVICE)"
   ]
  },
  {
   "cell_type": "markdown",
   "metadata": {},
   "source": [
    "## Evaluate"
   ]
  },
  {
   "cell_type": "code",
   "execution_count": 54,
   "metadata": {},
   "outputs": [
    {
     "ename": "KeyboardInterrupt",
     "evalue": "",
     "output_type": "error",
     "traceback": [
      "\u001b[0;31m---------------------------------------------------------------------------\u001b[0m",
      "\u001b[0;31mKeyboardInterrupt\u001b[0m                         Traceback (most recent call last)",
      "\u001b[1;32m/homes/ajc348/BBB/classification.ipynb Cell 15'\u001b[0m in \u001b[0;36m<cell line: 1>\u001b[0;34m()\u001b[0m\n\u001b[0;32m----> <a href='vscode-notebook-cell://ssh-remote%2Bmlsalt-term6/homes/ajc348/BBB/classification.ipynb#ch0000012vscode-remote?line=0'>1</a>\u001b[0m model\u001b[39m.\u001b[39;49mevaluate(X_val)\n",
      "File \u001b[0;32m~/BBB/src/bbb/models/evaluation.py:60\u001b[0m, in \u001b[0;36mClassificationEval.evaluate\u001b[0;34m(self, test_data)\u001b[0m\n\u001b[1;32m     <a href='file:///homes/ajc348/BBB/src/bbb/models/evaluation.py?line=56'>57</a>\u001b[0m inputs \u001b[39m=\u001b[39m inputs\u001b[39m.\u001b[39mto(DEVICE)\n\u001b[1;32m     <a href='file:///homes/ajc348/BBB/src/bbb/models/evaluation.py?line=57'>58</a>\u001b[0m labels \u001b[39m=\u001b[39m labels\u001b[39m.\u001b[39mto(DEVICE)\n\u001b[0;32m---> <a href='file:///homes/ajc348/BBB/src/bbb/models/evaluation.py?line=59'>60</a>\u001b[0m preds, probs \u001b[39m=\u001b[39m \u001b[39mself\u001b[39;49m\u001b[39m.\u001b[39;49mpredict(inputs)\n\u001b[1;32m     <a href='file:///homes/ajc348/BBB/src/bbb/models/evaluation.py?line=61'>62</a>\u001b[0m total \u001b[39m+\u001b[39m\u001b[39m=\u001b[39m \u001b[39mself\u001b[39m\u001b[39m.\u001b[39mbatch_size\n\u001b[1;32m     <a href='file:///homes/ajc348/BBB/src/bbb/models/evaluation.py?line=62'>63</a>\u001b[0m correct \u001b[39m+\u001b[39m\u001b[39m=\u001b[39m (labels \u001b[39m==\u001b[39m preds)\u001b[39m.\u001b[39msum()\n",
      "File \u001b[0;32m~/BBB/src/bbb/models/bnn.py:443\u001b[0m, in \u001b[0;36mClassificationBNN.predict\u001b[0;34m(self, X)\u001b[0m\n\u001b[1;32m    <a href='file:///homes/ajc348/BBB/src/bbb/models/bnn.py?line=440'>441</a>\u001b[0m \u001b[39m# Repeat forward (sampling) <inference_samples> times to create probability distribution\u001b[39;00m\n\u001b[1;32m    <a href='file:///homes/ajc348/BBB/src/bbb/models/bnn.py?line=441'>442</a>\u001b[0m \u001b[39mfor\u001b[39;00m _ \u001b[39min\u001b[39;00m torch\u001b[39m.\u001b[39marange(\u001b[39mself\u001b[39m\u001b[39m.\u001b[39minference_samples):\n\u001b[0;32m--> <a href='file:///homes/ajc348/BBB/src/bbb/models/bnn.py?line=442'>443</a>\u001b[0m     output \u001b[39m=\u001b[39m F\u001b[39m.\u001b[39msoftmax(\u001b[39mself\u001b[39;49m\u001b[39m.\u001b[39;49mforward(X), dim\u001b[39m=\u001b[39m\u001b[39m1\u001b[39m)\n\u001b[1;32m    <a href='file:///homes/ajc348/BBB/src/bbb/models/bnn.py?line=444'>445</a>\u001b[0m     \u001b[39m# Incremental update of average\u001b[39;00m\n\u001b[1;32m    <a href='file:///homes/ajc348/BBB/src/bbb/models/bnn.py?line=445'>446</a>\u001b[0m     probs \u001b[39m+\u001b[39m\u001b[39m=\u001b[39m output \u001b[39m/\u001b[39m \u001b[39mself\u001b[39m\u001b[39m.\u001b[39minference_samples\n",
      "File \u001b[0;32m~/BBB/src/bbb/models/bnn.py:425\u001b[0m, in \u001b[0;36mClassificationBNN.forward\u001b[0;34m(self, X)\u001b[0m\n\u001b[1;32m    <a href='file:///homes/ajc348/BBB/src/bbb/models/bnn.py?line=421'>422</a>\u001b[0m \u001b[39mdef\u001b[39;00m \u001b[39mforward\u001b[39m(\u001b[39mself\u001b[39m, X: Tensor) \u001b[39m-\u001b[39m\u001b[39m>\u001b[39m Tensor:\n\u001b[1;32m    <a href='file:///homes/ajc348/BBB/src/bbb/models/bnn.py?line=422'>423</a>\u001b[0m     \u001b[39m# Flatten the image\u001b[39;00m\n\u001b[1;32m    <a href='file:///homes/ajc348/BBB/src/bbb/models/bnn.py?line=423'>424</a>\u001b[0m     X \u001b[39m=\u001b[39m X\u001b[39m.\u001b[39mview(\u001b[39m-\u001b[39m\u001b[39m1\u001b[39m, \u001b[39mself\u001b[39m\u001b[39m.\u001b[39minput_dim)\n\u001b[0;32m--> <a href='file:///homes/ajc348/BBB/src/bbb/models/bnn.py?line=424'>425</a>\u001b[0m     \u001b[39mreturn\u001b[39;00m \u001b[39msuper\u001b[39;49m()\u001b[39m.\u001b[39;49mforward(X)\n",
      "File \u001b[0;32m~/BBB/src/bbb/models/bnn.py:115\u001b[0m, in \u001b[0;36mBaseBNN.forward\u001b[0;34m(self, X)\u001b[0m\n\u001b[1;32m    <a href='file:///homes/ajc348/BBB/src/bbb/models/bnn.py?line=106'>107</a>\u001b[0m \u001b[39mdef\u001b[39;00m \u001b[39mforward\u001b[39m(\u001b[39mself\u001b[39m, X: Tensor) \u001b[39m-\u001b[39m\u001b[39m>\u001b[39m Tensor:\n\u001b[1;32m    <a href='file:///homes/ajc348/BBB/src/bbb/models/bnn.py?line=107'>108</a>\u001b[0m     \u001b[39m\"\"\"Run the passed data forward through the model.\u001b[39;00m\n\u001b[1;32m    <a href='file:///homes/ajc348/BBB/src/bbb/models/bnn.py?line=108'>109</a>\u001b[0m \n\u001b[1;32m    <a href='file:///homes/ajc348/BBB/src/bbb/models/bnn.py?line=109'>110</a>\u001b[0m \u001b[39m    :param X: data to run through the model\u001b[39;00m\n\u001b[0;32m   (...)\u001b[0m\n\u001b[1;32m    <a href='file:///homes/ajc348/BBB/src/bbb/models/bnn.py?line=112'>113</a>\u001b[0m \u001b[39m    :rtype: Tensor\u001b[39;00m\n\u001b[1;32m    <a href='file:///homes/ajc348/BBB/src/bbb/models/bnn.py?line=113'>114</a>\u001b[0m \u001b[39m    \"\"\"\u001b[39;00m\n\u001b[0;32m--> <a href='file:///homes/ajc348/BBB/src/bbb/models/bnn.py?line=114'>115</a>\u001b[0m     \u001b[39mreturn\u001b[39;00m \u001b[39mself\u001b[39;49m\u001b[39m.\u001b[39;49mmodel\u001b[39m.\u001b[39;49mforward(X)\n",
      "File \u001b[0;32m~/BBB/.venv/lib/python3.9/site-packages/torch/nn/modules/container.py:139\u001b[0m, in \u001b[0;36mSequential.forward\u001b[0;34m(self, input)\u001b[0m\n\u001b[1;32m    <a href='file:///homes/ajc348/BBB/.venv/lib/python3.9/site-packages/torch/nn/modules/container.py?line=136'>137</a>\u001b[0m \u001b[39mdef\u001b[39;00m \u001b[39mforward\u001b[39m(\u001b[39mself\u001b[39m, \u001b[39minput\u001b[39m):\n\u001b[1;32m    <a href='file:///homes/ajc348/BBB/.venv/lib/python3.9/site-packages/torch/nn/modules/container.py?line=137'>138</a>\u001b[0m     \u001b[39mfor\u001b[39;00m module \u001b[39min\u001b[39;00m \u001b[39mself\u001b[39m:\n\u001b[0;32m--> <a href='file:///homes/ajc348/BBB/.venv/lib/python3.9/site-packages/torch/nn/modules/container.py?line=138'>139</a>\u001b[0m         \u001b[39minput\u001b[39m \u001b[39m=\u001b[39m module(\u001b[39minput\u001b[39;49m)\n\u001b[1;32m    <a href='file:///homes/ajc348/BBB/.venv/lib/python3.9/site-packages/torch/nn/modules/container.py?line=139'>140</a>\u001b[0m     \u001b[39mreturn\u001b[39;00m \u001b[39minput\u001b[39m\n",
      "File \u001b[0;32m~/BBB/.venv/lib/python3.9/site-packages/torch/nn/modules/module.py:1051\u001b[0m, in \u001b[0;36mModule._call_impl\u001b[0;34m(self, *input, **kwargs)\u001b[0m\n\u001b[1;32m   <a href='file:///homes/ajc348/BBB/.venv/lib/python3.9/site-packages/torch/nn/modules/module.py?line=1046'>1047</a>\u001b[0m \u001b[39m# If we don't have any hooks, we want to skip the rest of the logic in\u001b[39;00m\n\u001b[1;32m   <a href='file:///homes/ajc348/BBB/.venv/lib/python3.9/site-packages/torch/nn/modules/module.py?line=1047'>1048</a>\u001b[0m \u001b[39m# this function, and just call forward.\u001b[39;00m\n\u001b[1;32m   <a href='file:///homes/ajc348/BBB/.venv/lib/python3.9/site-packages/torch/nn/modules/module.py?line=1048'>1049</a>\u001b[0m \u001b[39mif\u001b[39;00m \u001b[39mnot\u001b[39;00m (\u001b[39mself\u001b[39m\u001b[39m.\u001b[39m_backward_hooks \u001b[39mor\u001b[39;00m \u001b[39mself\u001b[39m\u001b[39m.\u001b[39m_forward_hooks \u001b[39mor\u001b[39;00m \u001b[39mself\u001b[39m\u001b[39m.\u001b[39m_forward_pre_hooks \u001b[39mor\u001b[39;00m _global_backward_hooks\n\u001b[1;32m   <a href='file:///homes/ajc348/BBB/.venv/lib/python3.9/site-packages/torch/nn/modules/module.py?line=1049'>1050</a>\u001b[0m         \u001b[39mor\u001b[39;00m _global_forward_hooks \u001b[39mor\u001b[39;00m _global_forward_pre_hooks):\n\u001b[0;32m-> <a href='file:///homes/ajc348/BBB/.venv/lib/python3.9/site-packages/torch/nn/modules/module.py?line=1050'>1051</a>\u001b[0m     \u001b[39mreturn\u001b[39;00m forward_call(\u001b[39m*\u001b[39;49m\u001b[39minput\u001b[39;49m, \u001b[39m*\u001b[39;49m\u001b[39m*\u001b[39;49mkwargs)\n\u001b[1;32m   <a href='file:///homes/ajc348/BBB/.venv/lib/python3.9/site-packages/torch/nn/modules/module.py?line=1051'>1052</a>\u001b[0m \u001b[39m# Do not call functions when jit is used\u001b[39;00m\n\u001b[1;32m   <a href='file:///homes/ajc348/BBB/.venv/lib/python3.9/site-packages/torch/nn/modules/module.py?line=1052'>1053</a>\u001b[0m full_backward_hooks, non_full_backward_hooks \u001b[39m=\u001b[39m [], []\n",
      "File \u001b[0;32m~/BBB/src/bbb/models/layers.py:164\u001b[0m, in \u001b[0;36mBFC.forward\u001b[0;34m(self, input, sample)\u001b[0m\n\u001b[1;32m    <a href='file:///homes/ajc348/BBB/src/bbb/models/layers.py?line=161'>162</a>\u001b[0m     \u001b[39m# Compute free energy\u001b[39;00m\n\u001b[1;32m    <a href='file:///homes/ajc348/BBB/src/bbb/models/layers.py?line=162'>163</a>\u001b[0m     \u001b[39mself\u001b[39m\u001b[39m.\u001b[39mlog_prior \u001b[39m=\u001b[39m \u001b[39mself\u001b[39m\u001b[39m.\u001b[39mw_prior\u001b[39m.\u001b[39mlog_prob(w)\u001b[39m.\u001b[39msum() \u001b[39m+\u001b[39m \u001b[39mself\u001b[39m\u001b[39m.\u001b[39mb_prior\u001b[39m.\u001b[39mlog_prob(b)\u001b[39m.\u001b[39msum() \u001b[39m# log P(w) in eq (2)\u001b[39;00m\n\u001b[0;32m--> <a href='file:///homes/ajc348/BBB/src/bbb/models/layers.py?line=163'>164</a>\u001b[0m     \u001b[39mself\u001b[39m\u001b[39m.\u001b[39mlog_var_post \u001b[39m=\u001b[39m \u001b[39mself\u001b[39m\u001b[39m.\u001b[39mw_var_post\u001b[39m.\u001b[39mlog_prob(w)\u001b[39m.\u001b[39msum() \u001b[39m+\u001b[39m \u001b[39mself\u001b[39;49m\u001b[39m.\u001b[39;49mb_var_post\u001b[39m.\u001b[39;49mlog_prob(b)\u001b[39m.\u001b[39msum()  \u001b[39m# log q(w|theta) in eq (2)\u001b[39;00m\n\u001b[1;32m    <a href='file:///homes/ajc348/BBB/src/bbb/models/layers.py?line=165'>166</a>\u001b[0m \u001b[39melse\u001b[39;00m:\n\u001b[1;32m    <a href='file:///homes/ajc348/BBB/src/bbb/models/layers.py?line=166'>167</a>\u001b[0m     w \u001b[39m=\u001b[39m \u001b[39mself\u001b[39m\u001b[39m.\u001b[39mw_var_post\u001b[39m.\u001b[39mmu\n",
      "File \u001b[0;32m~/BBB/src/bbb/models/layers.py:64\u001b[0m, in \u001b[0;36mGaussianVarPost.log_prob\u001b[0;34m(self, value)\u001b[0m\n\u001b[1;32m     <a href='file:///homes/ajc348/BBB/src/bbb/models/layers.py?line=62'>63</a>\u001b[0m \u001b[39mdef\u001b[39;00m \u001b[39mlog_prob\u001b[39m(\u001b[39mself\u001b[39m, value):\n\u001b[0;32m---> <a href='file:///homes/ajc348/BBB/src/bbb/models/layers.py?line=63'>64</a>\u001b[0m     log_prob \u001b[39m=\u001b[39m distributions\u001b[39m.\u001b[39;49mNormal(loc\u001b[39m=\u001b[39;49m\u001b[39mself\u001b[39;49m\u001b[39m.\u001b[39;49mmu, scale\u001b[39m=\u001b[39;49m\u001b[39mself\u001b[39;49m\u001b[39m.\u001b[39;49msigma)\u001b[39m.\u001b[39mlog_prob(value)\n\u001b[1;32m     <a href='file:///homes/ajc348/BBB/src/bbb/models/layers.py?line=64'>65</a>\u001b[0m     \u001b[39mreturn\u001b[39;00m log_prob\n",
      "File \u001b[0;32m~/BBB/.venv/lib/python3.9/site-packages/torch/distributions/normal.py:50\u001b[0m, in \u001b[0;36mNormal.__init__\u001b[0;34m(self, loc, scale, validate_args)\u001b[0m\n\u001b[1;32m     <a href='file:///homes/ajc348/BBB/.venv/lib/python3.9/site-packages/torch/distributions/normal.py?line=47'>48</a>\u001b[0m \u001b[39melse\u001b[39;00m:\n\u001b[1;32m     <a href='file:///homes/ajc348/BBB/.venv/lib/python3.9/site-packages/torch/distributions/normal.py?line=48'>49</a>\u001b[0m     batch_shape \u001b[39m=\u001b[39m \u001b[39mself\u001b[39m\u001b[39m.\u001b[39mloc\u001b[39m.\u001b[39msize()\n\u001b[0;32m---> <a href='file:///homes/ajc348/BBB/.venv/lib/python3.9/site-packages/torch/distributions/normal.py?line=49'>50</a>\u001b[0m \u001b[39msuper\u001b[39;49m(Normal, \u001b[39mself\u001b[39;49m)\u001b[39m.\u001b[39;49m\u001b[39m__init__\u001b[39;49m(batch_shape, validate_args\u001b[39m=\u001b[39;49mvalidate_args)\n",
      "File \u001b[0;32m~/BBB/.venv/lib/python3.9/site-packages/torch/distributions/distribution.py:52\u001b[0m, in \u001b[0;36mDistribution.__init__\u001b[0;34m(self, batch_shape, event_shape, validate_args)\u001b[0m\n\u001b[1;32m     <a href='file:///homes/ajc348/BBB/.venv/lib/python3.9/site-packages/torch/distributions/distribution.py?line=49'>50</a>\u001b[0m         \u001b[39mif\u001b[39;00m param \u001b[39mnot\u001b[39;00m \u001b[39min\u001b[39;00m \u001b[39mself\u001b[39m\u001b[39m.\u001b[39m\u001b[39m__dict__\u001b[39m \u001b[39mand\u001b[39;00m \u001b[39misinstance\u001b[39m(\u001b[39mgetattr\u001b[39m(\u001b[39mtype\u001b[39m(\u001b[39mself\u001b[39m), param), lazy_property):\n\u001b[1;32m     <a href='file:///homes/ajc348/BBB/.venv/lib/python3.9/site-packages/torch/distributions/distribution.py?line=50'>51</a>\u001b[0m             \u001b[39mcontinue\u001b[39;00m  \u001b[39m# skip checking lazily-constructed args\u001b[39;00m\n\u001b[0;32m---> <a href='file:///homes/ajc348/BBB/.venv/lib/python3.9/site-packages/torch/distributions/distribution.py?line=51'>52</a>\u001b[0m         \u001b[39mif\u001b[39;00m \u001b[39mnot\u001b[39;00m constraint\u001b[39m.\u001b[39;49mcheck(\u001b[39mgetattr\u001b[39;49m(\u001b[39mself\u001b[39;49m, param))\u001b[39m.\u001b[39;49mall():\n\u001b[1;32m     <a href='file:///homes/ajc348/BBB/.venv/lib/python3.9/site-packages/torch/distributions/distribution.py?line=52'>53</a>\u001b[0m             \u001b[39mraise\u001b[39;00m \u001b[39mValueError\u001b[39;00m(\u001b[39m\"\u001b[39m\u001b[39mThe parameter \u001b[39m\u001b[39m{}\u001b[39;00m\u001b[39m has invalid values\u001b[39m\u001b[39m\"\u001b[39m\u001b[39m.\u001b[39mformat(param))\n\u001b[1;32m     <a href='file:///homes/ajc348/BBB/.venv/lib/python3.9/site-packages/torch/distributions/distribution.py?line=53'>54</a>\u001b[0m \u001b[39msuper\u001b[39m(Distribution, \u001b[39mself\u001b[39m)\u001b[39m.\u001b[39m\u001b[39m__init__\u001b[39m()\n",
      "\u001b[0;31mKeyboardInterrupt\u001b[0m: "
     ]
    }
   ],
   "source": [
    "model.evaluate(X_val)"
   ]
  },
  {
   "cell_type": "code",
   "execution_count": null,
   "metadata": {},
   "outputs": [],
   "source": []
  }
 ],
 "metadata": {
  "interpreter": {
   "hash": "dd650fa3100fc8ae63c54d721de3eeb6dccc3e5cc10ee85e939f889f619211cb"
  },
  "kernelspec": {
   "display_name": "Python 3.9.7 ('.venv': venv)",
   "language": "python",
   "name": "python3"
  },
  "language_info": {
   "codemirror_mode": {
    "name": "ipython",
    "version": 3
   },
   "file_extension": ".py",
   "mimetype": "text/x-python",
   "name": "python",
   "nbconvert_exporter": "python",
   "pygments_lexer": "ipython3",
   "version": "3.9.7"
  },
  "orig_nbformat": 4
 },
 "nbformat": 4,
 "nbformat_minor": 2
}
