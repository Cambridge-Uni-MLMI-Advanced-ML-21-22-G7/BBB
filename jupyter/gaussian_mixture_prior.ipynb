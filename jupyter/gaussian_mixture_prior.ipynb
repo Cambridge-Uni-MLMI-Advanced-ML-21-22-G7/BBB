{
 "cells": [
  {
   "cell_type": "code",
   "execution_count": 1,
   "metadata": {},
   "outputs": [],
   "source": [
    "%load_ext autoreload\n",
    "%autoreload 2"
   ]
  },
  {
   "cell_type": "code",
   "execution_count": 2,
   "metadata": {},
   "outputs": [],
   "source": [
    "import numpy as np\n",
    "import torch\n",
    "from torch import distributions\n",
    "import matplotlib.pyplot as plt\n",
    "\n",
    "from bbb.utils.pytorch_setup import DEVICE\n",
    "from bbb.config.parameters import PriorParameters"
   ]
  },
  {
   "cell_type": "markdown",
   "metadata": {},
   "source": [
    "## Single Gaussian"
   ]
  },
  {
   "cell_type": "code",
   "execution_count": 24,
   "metadata": {},
   "outputs": [],
   "source": [
    "prior_params_g = PriorParameters(\n",
    "    w_sigma=1.,\n",
    "    b_sigma=1.,\n",
    "    w_sigma_2=0.2,\n",
    "    b_sigma_2=0.2,\n",
    "    w_mixture_weight=0.5,\n",
    "    b_mixture_weight=0.5,\n",
    ")"
   ]
  },
  {
   "cell_type": "code",
   "execution_count": 25,
   "metadata": {},
   "outputs": [],
   "source": [
    "w_prior_g = distributions.Normal(0, prior_params_g.w_sigma)\n",
    "b_prior_g = distributions.Normal(0, prior_params_g.b_sigma)"
   ]
  },
  {
   "cell_type": "code",
   "execution_count": 26,
   "metadata": {},
   "outputs": [
    {
     "data": {
      "image/png": "[encoded data removed]",
      "text/plain": [
       "<Figure size 720x360 with 1 Axes>"
      ]
     },
     "metadata": {
      "needs_background": "light"
     },
     "output_type": "display_data"
    }
   ],
   "source": [
    "fig, ax = plt.subplots(1, 1, figsize=(10, 5))\n",
    "w_prior_mog_samples =w_prior_g.sample(sample_shape=(100000,))\n",
    "ax.hist(w_prior_mog_samples.cpu().numpy(), bins=100)\n",
    "pass"
   ]
  },
  {
   "cell_type": "code",
   "execution_count": 27,
   "metadata": {},
   "outputs": [
    {
     "data": {
      "text/plain": [
       "tensor([0.2358], device='cuda:1')"
      ]
     },
     "execution_count": 27,
     "metadata": {},
     "output_type": "execute_result"
    }
   ],
   "source": [
    "torch.diff(w_prior_g.cdf(torch.tensor([-0.3, 0.3], device=DEVICE)))"
   ]
  },
  {
   "cell_type": "code",
   "execution_count": 28,
   "metadata": {},
   "outputs": [
    {
     "data": {
      "text/plain": [
       "tensor([0.3108], device='cuda:1')"
      ]
     },
     "execution_count": 28,
     "metadata": {},
     "output_type": "execute_result"
    }
   ],
   "source": [
    "torch.diff(w_prior_g.cdf(torch.tensor([-0.4, 0.4], device=DEVICE)))"
   ]
  },
  {
   "cell_type": "code",
   "execution_count": 29,
   "metadata": {},
   "outputs": [
    {
     "data": {
      "text/plain": [
       "tensor([0.3829], device='cuda:1')"
      ]
     },
     "execution_count": 29,
     "metadata": {},
     "output_type": "execute_result"
    }
   ],
   "source": [
    "torch.diff(w_prior_g.cdf(torch.tensor([-0.5, 0.5], device=DEVICE)))"
   ]
  },
  {
   "cell_type": "markdown",
   "metadata": {},
   "source": [
    "## MoG"
   ]
  },
  {
   "cell_type": "code",
   "execution_count": 5,
   "metadata": {},
   "outputs": [],
   "source": [
    "prior_params_mog = PriorParameters(\n",
    "    w_sigma=np.exp(-1),\n",
    "    b_sigma=np.exp(-1),\n",
    "    w_sigma_2=np.exp(-7),\n",
    "    b_sigma_2=np.exp(-7),\n",
    "    w_mixture_weight=0.5,\n",
    "    b_mixture_weight=0.5,\n",
    ")"
   ]
  },
  {
   "cell_type": "code",
   "execution_count": 6,
   "metadata": {},
   "outputs": [],
   "source": [
    "w_mix = distributions.Categorical(torch.tensor((prior_params_mog.w_mixture_weight, 1-prior_params_mog.w_mixture_weight), device=DEVICE))\n",
    "b_mix = distributions.Categorical(torch.tensor((prior_params_mog.b_mixture_weight, 1-prior_params_mog.b_mixture_weight), device=DEVICE))\n",
    "\n",
    "# Specify the individual components - whilst these appear to be multivariate Gaussians they will be seperated\n",
    "w_norm_comps = distributions.Normal(torch.zeros(2, device=DEVICE), torch.tensor((prior_params_mog.w_sigma, prior_params_mog.w_sigma_2), device=DEVICE, dtype=torch.float32))\n",
    "b_norm_comps = distributions.Normal(torch.zeros(2, device=DEVICE), torch.tensor((prior_params_mog.b_sigma, prior_params_mog.b_sigma_2), device=DEVICE, dtype=torch.float32))\n",
    "\n",
    "# Easier version to play around with\n",
    "# w_norm_comps = distributions.Normal(torch.tensor([-1.,1.], device=DEVICE), torch.tensor((prior_params_mog.w_sigma, prior_params_mog.w_sigma_2), device=DEVICE, dtype=torch.float32))\n",
    "# b_norm_comps = distributions.Normal(torch.tensor([0.,0.], device=DEVICE), torch.tensor((prior_params_mog.b_sigma, prior_params_mog.b_sigma_2), device=DEVICE, dtype=torch.float32))\n",
    "\n",
    "# Create the GMMs\n",
    "w_prior_mog = distributions.MixtureSameFamily(w_mix, w_norm_comps)\n",
    "b_prior_mog = distributions.MixtureSameFamily(b_mix, b_norm_comps)"
   ]
  },
  {
   "cell_type": "code",
   "execution_count": 7,
   "metadata": {},
   "outputs": [
    {
     "data": {
      "image/png": "[encoded data removed]",
      "text/plain": [
       "<Figure size 720x360 with 1 Axes>"
      ]
     },
     "metadata": {
      "needs_background": "light"
     },
     "output_type": "display_data"
    }
   ],
   "source": [
    "fig, ax = plt.subplots(1, 1, figsize=(10, 5))\n",
    "w_prior_mog_samples =w_prior_mog.sample(sample_shape=(100000,))\n",
    "ax.hist(w_prior_mog_samples.cpu().numpy(), bins=100)\n",
    "pass"
   ]
  },
  {
   "cell_type": "code",
   "execution_count": 18,
   "metadata": {},
   "outputs": [
    {
     "data": {
      "text/plain": [
       "tensor([0.7926], device='cuda:1')"
      ]
     },
     "execution_count": 18,
     "metadata": {},
     "output_type": "execute_result"
    }
   ],
   "source": [
    "torch.diff(w_prior_mog.cdf(torch.tensor([-0.3, 0.3], device=DEVICE)))"
   ]
  },
  {
   "cell_type": "code",
   "execution_count": 11,
   "metadata": {},
   "outputs": [
    {
     "data": {
      "text/plain": [
       "tensor([0.8616], device='cuda:1')"
      ]
     },
     "execution_count": 11,
     "metadata": {},
     "output_type": "execute_result"
    }
   ],
   "source": [
    "torch.diff(w_prior_mog.cdf(torch.tensor([-0.4, 0.4], device=DEVICE)))"
   ]
  },
  {
   "cell_type": "code",
   "execution_count": 36,
   "metadata": {},
   "outputs": [
    {
     "data": {
      "text/plain": [
       "tensor([0.9129], device='cuda:1')"
      ]
     },
     "execution_count": 36,
     "metadata": {},
     "output_type": "execute_result"
    }
   ],
   "source": [
    "torch.diff(w_prior.cdf(torch.tensor([-0.5, 0.5], device=DEVICE)))"
   ]
  },
  {
   "cell_type": "code",
   "execution_count": 12,
   "metadata": {},
   "outputs": [
    {
     "data": {
      "text/plain": [
       "(tensor([0.], device='cuda:1'), tensor([1.], device='cuda:1'))"
      ]
     },
     "execution_count": 12,
     "metadata": {},
     "output_type": "execute_result"
    }
   ],
   "source": [
    "w_prior_mog.cdf(torch.tensor([-4], device=DEVICE)), w_prior_mog.cdf(torch.tensor([2], device=DEVICE))"
   ]
  },
  {
   "cell_type": "markdown",
   "metadata": {},
   "source": [
    "## Laplacian"
   ]
  },
  {
   "cell_type": "code",
   "execution_count": 13,
   "metadata": {},
   "outputs": [],
   "source": [
    "# w_prior_l = distributions.Laplace(0, prior_params.w_sigma)\n",
    "# b_prior_l = distributions.Laplace(0, prior_params.b_sigma)\n",
    "\n",
    "w_prior_l = distributions.Laplace(0, 0.1)\n",
    "b_prior_l = distributions.Laplace(0, 0.1)"
   ]
  },
  {
   "cell_type": "code",
   "execution_count": 14,
   "metadata": {},
   "outputs": [
    {
     "data": {
      "image/png": "[encoded data removed]",
      "text/plain": [
       "<Figure size 720x360 with 1 Axes>"
      ]
     },
     "metadata": {
      "needs_background": "light"
     },
     "output_type": "display_data"
    }
   ],
   "source": [
    "fig, ax = plt.subplots(1, 1, figsize=(10, 5))\n",
    "w_prior_l_samples =w_prior_l.sample(sample_shape=(100000,))\n",
    "ax.hist(w_prior_l_samples.cpu().numpy(), bins=100)\n",
    "pass"
   ]
  },
  {
   "cell_type": "code",
   "execution_count": null,
   "metadata": {},
   "outputs": [],
   "source": []
  }
 ],
 "metadata": {
  "interpreter": {
   "hash": "dd650fa3100fc8ae63c54d721de3eeb6dccc3e5cc10ee85e939f889f619211cb"
  },
  "kernelspec": {
   "display_name": "Python 3.9.9 ('.venv': venv)",
   "language": "python",
   "name": "python3"
  },
  "language_info": {
   "codemirror_mode": {
    "name": "ipython",
    "version": 3
   },
   "file_extension": ".py",
   "mimetype": "text/x-python",
   "name": "python",
   "nbconvert_exporter": "python",
   "pygments_lexer": "ipython3",
   "version": "3.9.9"
  },
  "orig_nbformat": 4
 },
 "nbformat": 4,
 "nbformat_minor": 2
}
