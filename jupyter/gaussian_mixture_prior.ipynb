{
 "cells": [
  {
   "cell_type": "code",
   "execution_count": 1,
   "metadata": {},
   "outputs": [],
   "source": [
    "%load_ext autoreload\n",
    "%autoreload 2"
   ]
  },
  {
   "cell_type": "code",
   "execution_count": 14,
   "metadata": {},
   "outputs": [],
   "source": [
    "import torch\n",
    "from torch import distributions\n",
    "import matplotlib.pyplot as plt\n",
    "\n",
    "from bbb.utils.pytorch_setup import DEVICE\n",
    "from bbb.config.parameters import PriorParameters"
   ]
  },
  {
   "cell_type": "code",
   "execution_count": 15,
   "metadata": {},
   "outputs": [],
   "source": [
    "prior_params = PriorParameters(\n",
    "    w_sigma=1.,\n",
    "    b_sigma=1.,\n",
    "    w_sigma_2=0.2,\n",
    "    b_sigma_2=0.2,\n",
    "    w_mixture_weight=0.5,\n",
    "    b_mixture_weight=0.5,\n",
    ")"
   ]
  },
  {
   "cell_type": "code",
   "execution_count": 56,
   "metadata": {},
   "outputs": [],
   "source": [
    "w_mix = distributions.Categorical(torch.tensor((prior_params.w_mixture_weight, 1-prior_params.w_mixture_weight), device=DEVICE))\n",
    "b_mix = distributions.Categorical(torch.tensor((prior_params.b_mixture_weight, 1-prior_params.b_mixture_weight), device=DEVICE))\n",
    "\n",
    "# Specify the individual components - whilst these appear to be multivariate Gaussians they will be seperated\n",
    "w_norm_comps = distributions.Normal(torch.zeros(2, device=DEVICE), torch.tensor((prior_params.w_sigma, prior_params.w_sigma_2), device=DEVICE, dtype=torch.float32))\n",
    "b_norm_comps = distributions.Normal(torch.zeros(2, device=DEVICE), torch.tensor((prior_params.b_sigma, prior_params.b_sigma_2), device=DEVICE, dtype=torch.float32))\n",
    "\n",
    "# Easier version to play around with\n",
    "# w_norm_comps = distributions.Normal(torch.tensor([-1.,1.], device=DEVICE), torch.tensor((prior_params.w_sigma, prior_params.w_sigma_2), device=DEVICE, dtype=torch.float32))\n",
    "# b_norm_comps = distributions.Normal(torch.tensor([0.,0.], device=DEVICE), torch.tensor((prior_params.b_sigma, prior_params.b_sigma_2), device=DEVICE, dtype=torch.float32))\n",
    "\n",
    "# Create the GMMs\n",
    "w_prior = distributions.MixtureSameFamily(w_mix, w_norm_comps)\n",
    "b_prior = distributions.MixtureSameFamily(b_mix, b_norm_comps)"
   ]
  },
  {
   "cell_type": "code",
   "execution_count": 57,
   "metadata": {},
   "outputs": [],
   "source": [
    "w_prior_samples =w_prior.sample(sample_shape=(100000,))"
   ]
  },
  {
   "cell_type": "code",
   "execution_count": 58,
   "metadata": {},
   "outputs": [
    {
     "data": {
      "image/png": "[encoded data removed]",
      "text/plain": [
       "<Figure size 720x360 with 1 Axes>"
      ]
     },
     "metadata": {
      "needs_background": "light"
     },
     "output_type": "display_data"
    }
   ],
   "source": [
    "fig, ax = plt.subplots(1, 1, figsize=(10, 5))\n",
    "ax.hist(w_prior_samples.cpu().numpy(), bins=100)\n",
    "pass"
   ]
  },
  {
   "cell_type": "code",
   "execution_count": 59,
   "metadata": {},
   "outputs": [
    {
     "data": {
      "text/plain": [
       "(tensor([1.5840e-05], device='cuda:1'), tensor([0.9886], device='cuda:1'))"
      ]
     },
     "execution_count": 59,
     "metadata": {},
     "output_type": "execute_result"
    }
   ],
   "source": [
    "w_prior.cdf(torch.tensor([-4], device=DEVICE)), w_prior.cdf(torch.tensor([2], device=DEVICE))"
   ]
  },
  {
   "cell_type": "code",
   "execution_count": null,
   "metadata": {},
   "outputs": [],
   "source": []
  }
 ],
 "metadata": {
  "interpreter": {
   "hash": "dd650fa3100fc8ae63c54d721de3eeb6dccc3e5cc10ee85e939f889f619211cb"
  },
  "kernelspec": {
   "display_name": "Python 3.9.9 ('.venv': venv)",
   "language": "python",
   "name": "python3"
  },
  "language_info": {
   "codemirror_mode": {
    "name": "ipython",
    "version": 3
   },
   "file_extension": ".py",
   "mimetype": "text/x-python",
   "name": "python",
   "nbconvert_exporter": "python",
   "pygments_lexer": "ipython3",
   "version": "3.9.9"
  },
  "orig_nbformat": 4
 },
 "nbformat": 4,
 "nbformat_minor": 2
}
