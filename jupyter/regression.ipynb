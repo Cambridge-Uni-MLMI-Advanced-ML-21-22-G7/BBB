{
 "cells": [
  {
   "cell_type": "code",
   "execution_count": 24,
   "metadata": {},
   "outputs": [
    {
     "name": "stdout",
     "output_type": "stream",
     "text": [
      "The autoreload extension is already loaded. To reload it, use:\n",
      "  %reload_ext autoreload\n"
     ]
    }
   ],
   "source": [
    "%load_ext autoreload\n",
    "%autoreload 2"
   ]
  },
  {
   "cell_type": "code",
   "execution_count": 25,
   "metadata": {},
   "outputs": [],
   "source": [
    "import os\n",
    "import json\n",
    "from glob import glob\n",
    "from collections import namedtuple\n",
    "\n",
    "import torch\n",
    "import numpy as np\n",
    "import matplotlib.pyplot as plt\n",
    "import seaborn as sns\n",
    "\n",
    "from bbb.utils.pytorch_setup import DEVICE\n",
    "from bbb.utils.plotting import plot_weight_samples\n",
    "from bbb.config.constants import KL_REWEIGHTING_TYPES, PRIOR_TYPES, VP_VARIANCE_TYPES\n",
    "from bbb.config.parameters import Parameters, PriorParameters\n",
    "from bbb.models.dnn import RegressionDNN\n",
    "from bbb.models.bnn import RegressionBNN\n",
    "from bbb.data import load_mnist"
   ]
  },
  {
   "cell_type": "markdown",
   "metadata": {},
   "source": [
    "### Matplotlib Setup"
   ]
  },
  {
   "cell_type": "code",
   "execution_count": 35,
   "metadata": {},
   "outputs": [],
   "source": [
    "plt.rcParams.update({'axes.titlesize': 'large', 'axes.labelsize': 'medium'})\n",
    "colors_hex = {'blue': '#1F77B4', 'orange': '#FF7F0E', 'green': '#2CA02C'}\n",
    "colors = ['#1f77b4', '#ff7f0e', '#2ca02c', '#d62728', '#9467bd', '#8c564b', '#e377c2', '#7f7f7f', '#bcbd22', '#17becf']"
   ]
  },
  {
   "cell_type": "markdown",
   "metadata": {},
   "source": [
    "## Helper Classes"
   ]
  },
  {
   "cell_type": "code",
   "execution_count": 36,
   "metadata": {},
   "outputs": [],
   "source": [
    "ModelDetails = namedtuple('ModelDetails', 'dir mclass')"
   ]
  },
  {
   "cell_type": "markdown",
   "metadata": {},
   "source": [
    "## Trained Classification Models"
   ]
  },
  {
   "cell_type": "code",
   "execution_count": 62,
   "metadata": {},
   "outputs": [],
   "source": [
    "MODEL_DETAILS_DICT = {\n",
    "    # BNN Baseline\n",
    "    \"bnn_baseline_1\": ModelDetails(\"../saved_models/BBB_regression/baseline/2022-03-13-18.27.02\", RegressionBNN),\n",
    "    \"bnn_baseline_2\": ModelDetails(\"../saved_models/BBB_regression/baseline/2022-03-13-18.39.36\", RegressionBNN),\n",
    "    # DNN Baseline\n",
    "    \"dnn_baseline_1\": ModelDetails(\"../saved_models/DNN_regression/baseline/2022-03-14-20.33.27\", RegressionDNN),\n",
    "    \"dnn_baseline_2\": ModelDetails(\"../saved_models/DNN_regression/baseline/2022-03-14-20.33.55\", RegressionDNN),\n",
    "    # DNN DO Baseline\n",
    "    \"dnn_do_baseline_1\": ModelDetails(\"../saved_models/DNN_regression/dropout/0.5/2022-03-25-14.00.44\", RegressionDNN),\n",
    "    \"dnn_do_baseline_2\": ModelDetails(\"../saved_models/DNN_regression/dropout/0.7/2022-03-25-14.05.23\", RegressionDNN),\n",
    "}"
   ]
  },
  {
   "cell_type": "markdown",
   "metadata": {},
   "source": [
    "## Set Model"
   ]
  },
  {
   "cell_type": "code",
   "execution_count": 63,
   "metadata": {},
   "outputs": [
    {
     "data": {
      "text/plain": [
       "ModelDetails(dir='../saved_models/DNN_regression/baseline/2022-03-14-20.33.27', mclass=<class 'bbb.models.dnn.RegressionDNN'>)"
      ]
     },
     "execution_count": 63,
     "metadata": {},
     "output_type": "execute_result"
    }
   ],
   "source": [
    "MODEL = \"dnn_baseline_1\"\n",
    "MODEL_DETAILS = MODEL_DETAILS_DICT[MODEL]\n",
    "MODEL_DETAILS"
   ]
  },
  {
   "cell_type": "markdown",
   "metadata": {},
   "source": [
    "## Load Parameters"
   ]
  },
  {
   "cell_type": "code",
   "execution_count": 64,
   "metadata": {},
   "outputs": [
    {
     "data": {
      "text/plain": [
       "Parameters(name='DNN_regression', input_dim=1, output_dim=1, batch_size=128, epochs=1000, hidden_units=400, hidden_layers=3, lr=0.001, step_size=250, opt_choice='Adam', gamma=0.1, weight_mu_range=None, weight_rho_range=None, prior_params=None, elbo_samples=None, inference_samples=None, regression_likelihood_noise=None, kl_reweighting_type=None, vp_variance_type=None, prior_type=None, local_reparam_trick=False, dropout=False, dropout_p=0.5, early_stopping=False, early_stopping_thresh=0.0001, model_save_basedir='./saved_models', tensorboard_save_dir='./tensorboard')"
      ]
     },
     "execution_count": 64,
     "metadata": {},
     "output_type": "execute_result"
    }
   ],
   "source": [
    "with open(os.path.join(MODEL_DETAILS.dir, 'params.txt'), 'r') as f:\n",
    "    params_dict = json.load(f)\n",
    "\n",
    "# Need to deserialise the prior_params into a PriorParameters object\n",
    "if params_dict['prior_params']:\n",
    "    params_dict['prior_params'] = PriorParameters(**params_dict['prior_params'])\n",
    "\n",
    "params = Parameters(**params_dict)\n",
    "params"
   ]
  },
  {
   "cell_type": "code",
   "execution_count": 65,
   "metadata": {},
   "outputs": [],
   "source": [
    "# models = ['bnn_baseline_1', 'dnn_baseline_1']\n",
    "models = ['bnn_baseline_2', 'dnn_do_baseline_2', 'dnn_baseline_2']"
   ]
  },
  {
   "cell_type": "code",
   "execution_count": 66,
   "metadata": {},
   "outputs": [
    {
     "name": "stderr",
     "output_type": "stream",
     "text": [
      "2022-03-25 14:08:20,408 - bbb.models.layers - INFO - Weights Prior: Gaussian with mean 0 and variance 1.0\n",
      "2022-03-25 14:08:20,410 - bbb.models.layers - INFO - Biases Prior: Gaussian with mean 0 and variance 1.0\n",
      "2022-03-25 14:08:20,425 - bbb.models.layers - INFO - Weights Prior: Gaussian with mean 0 and variance 1.0\n",
      "2022-03-25 14:08:20,427 - bbb.models.layers - INFO - Biases Prior: Gaussian with mean 0 and variance 1.0\n",
      "2022-03-25 14:08:20,434 - bbb.models.layers - INFO - Weights Prior: Gaussian with mean 0 and variance 1.0\n",
      "2022-03-25 14:08:20,436 - bbb.models.layers - INFO - Biases Prior: Gaussian with mean 0 and variance 1.0\n"
     ]
    },
    {
     "data": {
      "image/png": "[encoded data removed]",
      "text/plain": [
       "<Figure size 720x720 with 1 Axes>"
      ]
     },
     "metadata": {
      "needs_background": "light"
     },
     "output_type": "display_data"
    }
   ],
   "source": [
    "fig, ax = plt.subplots(1, 1, figsize=(10,10))\n",
    "# Formatting of plot\n",
    "ax.set_xlabel('Weight Value', fontsize=18)\n",
    "ax.set_ylabel('Density', fontsize=18)\n",
    "\n",
    "\n",
    "for idx, model in enumerate(models):\n",
    "    MODEL_DETAILS = MODEL_DETAILS_DICT[model]\n",
    "    \n",
    "    # Load params\n",
    "    with open(os.path.join(MODEL_DETAILS.dir, 'params.txt'), 'r') as f:\n",
    "        params_dict = json.load(f)\n",
    "\n",
    "    # Need to deserialise the prior_params into a PriorParameters object\n",
    "    if params_dict['prior_params']:\n",
    "        params_dict['prior_params'] = PriorParameters(**params_dict['prior_params'])\n",
    "\n",
    "    params = Parameters(**params_dict)\n",
    "\n",
    "    # Load model\n",
    "    net = MODEL_DETAILS.mclass(params=params, eval_mode=True)\n",
    "    net.model.load_state_dict(torch.load(os.path.join(MODEL_DETAILS.dir, 'model.pt'), map_location=torch.device(DEVICE)))\n",
    "\n",
    "    weight_samples = net.weight_samples()\n",
    "\n",
    "    comb_weight_samples = torch.hstack(weight_samples)\n",
    "    sns.kdeplot(comb_weight_samples.flatten().detach().cpu().numpy(), fill=True, ax=ax, color=colors[idx], alpha=0.5, multiple=\"stack\")\n",
    "    # ax.hist(comb_weight_samples.flatten().detach().cpu().numpy(), **histogram_args)\n",
    "\n",
    "    \n",
    "# Display the plot\n",
    "ax.legend(['BNN', 'DNN (Dropoout)', 'DNN'], loc='upper left', prop={'size':20})\n",
    "plt.savefig(os.path.join(\"../plots/bbb_regression/baseline/comb_weights_plot.png\"), pad_inches=0.2, bbox_inches='tight')\n",
    "plt.show()"
   ]
  },
  {
   "cell_type": "code",
   "execution_count": null,
   "metadata": {},
   "outputs": [],
   "source": []
  }
 ],
 "metadata": {
  "interpreter": {
   "hash": "dd650fa3100fc8ae63c54d721de3eeb6dccc3e5cc10ee85e939f889f619211cb"
  },
  "kernelspec": {
   "display_name": "Python 3.9.9 ('.venv': venv)",
   "language": "python",
   "name": "python3"
  },
  "language_info": {
   "codemirror_mode": {
    "name": "ipython",
    "version": 3
   },
   "file_extension": ".py",
   "mimetype": "text/x-python",
   "name": "python",
   "nbconvert_exporter": "python",
   "pygments_lexer": "ipython3",
   "version": "3.9.9"
  },
  "orig_nbformat": 4
 },
 "nbformat": 4,
 "nbformat_minor": 2
}
