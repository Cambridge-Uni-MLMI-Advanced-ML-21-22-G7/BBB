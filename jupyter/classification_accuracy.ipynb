{
 "cells": [
  {
   "cell_type": "code",
   "execution_count": 2,
   "metadata": {},
   "outputs": [],
   "source": [
    "import os\n",
    "import json\n",
    "from glob import glob\n",
    "from collections import namedtuple\n",
    "\n",
    "import torch\n",
    "import numpy as np\n",
    "import seaborn as sns\n",
    "import matplotlib\n",
    "import matplotlib.pyplot as plt\n",
    "\n",
    "from bbb.utils.pytorch_setup import DEVICE\n",
    "from bbb.utils.plotting import plot_weight_samples\n",
    "from bbb.config.constants import KL_REWEIGHTING_TYPES, PRIOR_TYPES, VP_VARIANCE_TYPES\n",
    "from bbb.config.parameters import Parameters, PriorParameters\n",
    "from bbb.models.dnn import ClassificationDNN\n",
    "from bbb.models.bnn import ClassificationBNN\n",
    "from bbb.data import load_mnist\n",
    "from bbb.models.layers import BaseBFC"
   ]
  },
  {
   "cell_type": "code",
   "execution_count": 3,
   "metadata": {},
   "outputs": [],
   "source": [
    "matplotlib.style.use('default')\n",
    "plt.rcParams.update({'axes.titlesize': 'large', 'axes.labelsize': 'medium'})\n",
    "colors_hex = {'blue': '#1F77B4', 'orange': '#FF7F0E', 'green': '#2CA02C'}\n",
    "colors = ['#1f77b4', '#ff7f0e', '#2ca02c', '#d62728', '#9467bd', '#8c564b', '#e377c2', '#7f7f7f', '#bcbd22', '#17becf']"
   ]
  },
  {
   "cell_type": "code",
   "execution_count": 40,
   "metadata": {},
   "outputs": [
    {
     "ename": "SyntaxError",
     "evalue": "unexpected EOF while parsing (4194928596.py, line 35)",
     "output_type": "error",
     "traceback": [
      "\u001b[0;36m  Input \u001b[0;32mIn [40]\u001b[0;36m\u001b[0m\n\u001b[0;31m    \u001b[0m\n\u001b[0m    ^\u001b[0m\n\u001b[0;31mSyntaxError\u001b[0m\u001b[0;31m:\u001b[0m unexpected EOF while parsing\n"
     ]
    }
   ],
   "source": [
    "mog_directory = os.fsencode(\"../saved_models/BBB_classification/baseline/mog_prior/\")\n",
    "sgp_directory = of.fsencode(\"../saved_models/BBB_classification/baseline/single_gaussian_prior/\")\n",
    "eval_dict = {}\n",
    "\n",
    "directory = sgp_directory\n",
    "for root, subdirs, files in os.walk(directory):\n",
    "    root = os.fsdecode(root)\n",
    "    # print('--\\nroot = ', root)\n",
    "    \n",
    "    # list_file_path = os.path.join(root, 'my-directory-list.txt')\n",
    "\n",
    "    if root.split('/')[-1].__contains__(\".\") and root.split('/')[-2].__contains__(\"0\"): # dst folder (time stamp, hidden units)\n",
    "        \n",
    "        model_name = \"/\".join(root.split('/')[-4:])\n",
    "        \n",
    "        # for subdir in subdirs:\n",
    "        #     print('\\t- subdirectory ' + os.fsdecode(subdir))\n",
    "\n",
    "        with open(os.path.join(root, 'params.txt'), 'r') as f:\n",
    "            params_dict = json.load(f)\n",
    "\n",
    "        # Need to deserialise the prior_params into a PriorParameters object\n",
    "        if params_dict['prior_params']:\n",
    "            params_dict['prior_params'] = PriorParameters(**params_dict['prior_params'])\n",
    "\n",
    "        params = Parameters(**params_dict)\n",
    "\n",
    "        net = ClassificationBNN(params=params, eval_mode=True)\n",
    "        net.model.load_state_dict(torch.load(os.path.join(root, 'model.pt'), map_location=torch.device('cpu')))\n",
    "\n",
    "        eval_metric = np.load(os.path.join(root, 'eval_metric.npy'))\n",
    "        eval_dict[model_name] = round(1-eval_metric[-1], \n",
    "\n",
    "        "
   ]
  },
  {
   "cell_type": "code",
   "execution_count": 36,
   "metadata": {},
   "outputs": [
    {
     "data": {
      "text/plain": [
       "{}"
      ]
     },
     "execution_count": 36,
     "metadata": {},
     "output_type": "execute_result"
    }
   ],
   "source": [
    "eval_dict"
   ]
  },
  {
   "cell_type": "code",
   "execution_count": 39,
   "metadata": {},
   "outputs": [],
   "source": [
    "directory = os.fsencode(\"../saved_models/BBB_classification/baseline/single_guassian_prior\")\n",
    "eval_dict = {}\n",
    "for root, subdirs, files in os.walk(directory):\n",
    "    \n",
    "    print(os.fsdecode(root))"
   ]
  },
  {
   "cell_type": "code",
   "execution_count": null,
   "metadata": {},
   "outputs": [],
   "source": []
  }
 ],
 "metadata": {
  "interpreter": {
   "hash": "5270afc4e1f7b529d51c14a6012429c52c3dbf5c86ddd8dcac8bfb87e34d88eb"
  },
  "kernelspec": {
   "display_name": "Python 3.9.9 ('env': venv)",
   "language": "python",
   "name": "python3"
  },
  "language_info": {
   "codemirror_mode": {
    "name": "ipython",
    "version": 3
   },
   "file_extension": ".py",
   "mimetype": "text/x-python",
   "name": "python",
   "nbconvert_exporter": "python",
   "pygments_lexer": "ipython3",
   "version": "3.9.9"
  },
  "orig_nbformat": 4
 },
 "nbformat": 4,
 "nbformat_minor": 2
}
