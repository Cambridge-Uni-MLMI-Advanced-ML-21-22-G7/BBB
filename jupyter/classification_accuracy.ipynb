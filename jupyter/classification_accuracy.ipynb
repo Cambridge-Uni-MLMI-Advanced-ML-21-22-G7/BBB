{
 "cells": [
  {
   "cell_type": "code",
   "execution_count": 43,
   "metadata": {},
   "outputs": [
    {
     "name": "stdout",
     "output_type": "stream",
     "text": [
      "The autoreload extension is already loaded. To reload it, use:\n",
      "  %reload_ext autoreload\n"
     ]
    }
   ],
   "source": [
    "%load_ext autoreload\n",
    "%autoreload 2"
   ]
  },
  {
   "cell_type": "code",
   "execution_count": 44,
   "metadata": {},
   "outputs": [],
   "source": [
    "from model_details import MODEL_DETAILS_DICT, load_model, ModelDetails\n"
   ]
  },
  {
   "cell_type": "code",
   "execution_count": 45,
   "metadata": {},
   "outputs": [],
   "source": [
    "import os\n",
    "import json\n",
    "from glob import glob\n",
    "from collections import namedtuple\n",
    "\n",
    "import torch\n",
    "import numpy as np\n",
    "import seaborn as sns\n",
    "import matplotlib\n",
    "import matplotlib.pyplot as plt\n",
    "\n",
    "from bbb.utils.pytorch_setup import DEVICE\n",
    "from bbb.utils.plotting import plot_weight_samples\n",
    "from bbb.config.constants import KL_REWEIGHTING_TYPES, PRIOR_TYPES, VP_VARIANCE_TYPES\n",
    "from bbb.config.parameters import Parameters, PriorParameters\n",
    "from bbb.models.dnn import ClassificationDNN\n",
    "from bbb.models.bnn import ClassificationBNN\n",
    "from bbb.data import load_mnist, load_adverserial_mnist\n",
    "from bbb.models.layers import BaseBFC\n",
    "\n",
    "\n",
    "from labellines import labelLines\n",
    "\n",
    "from evaluate_classifier import evaluate_classifier\n",
    "from model_details import MODEL_DETAILS_DICT, load_model, ModelDetails\n",
    "\n",
    "import pickle"
   ]
  },
  {
   "cell_type": "code",
   "execution_count": 33,
   "metadata": {},
   "outputs": [
    {
     "name": "stderr",
     "output_type": "stream",
     "text": [
      "2022-03-29 20:44:39,235 - bbb.models.layers - INFO - Weights Prior: Gaussian mixture with means (0, 0), variances (1.0, 0.0009118819655545162) and weight 0.5\n",
      "2022-03-29 20:44:39,236 - bbb.models.layers - INFO - Biases Prior: Gaussian mixture with means (0, 0), variances (1.0, 0.0009118819655545162) and weight 0.5\n",
      "2022-03-29 20:44:39,241 - bbb.models.layers - INFO - Weights Prior: Gaussian mixture with means (0, 0), variances (1.0, 0.0009118819655545162) and weight 0.5\n",
      "2022-03-29 20:44:39,241 - bbb.models.layers - INFO - Biases Prior: Gaussian mixture with means (0, 0), variances (1.0, 0.0009118819655545162) and weight 0.5\n",
      "2022-03-29 20:44:39,242 - bbb.models.layers - INFO - Weights Prior: Gaussian mixture with means (0, 0), variances (1.0, 0.0009118819655545162) and weight 0.5\n",
      "2022-03-29 20:44:39,243 - bbb.models.layers - INFO - Biases Prior: Gaussian mixture with means (0, 0), variances (1.0, 0.0009118819655545162) and weight 0.5\n"
     ]
    },
    {
     "name": "stdout",
     "output_type": "stream",
     "text": [
      "tensor(0.0186)\n"
     ]
    }
   ],
   "source": [
    "# Running 50 inference samples across MoG 600 1200 \n",
    "net, params = load_model(\"bnn_mog_800\")\n",
    "net.inference_samples = 50\n",
    "X_val = load_mnist(train=False, batch_size=params.batch_size, shuffle=True)\n",
    "res = evaluate_classifier(net, X_val)\n",
    "\n",
    "print(1 - res['eval_score'])"
   ]
  },
  {
   "cell_type": "code",
   "execution_count": 34,
   "metadata": {},
   "outputs": [
    {
     "data": {
      "text/plain": [
       "0.981370210647583"
      ]
     },
     "execution_count": 34,
     "metadata": {},
     "output_type": "execute_result"
    }
   ],
   "source": [
    "res['eval_score'].item()"
   ]
  },
  {
   "cell_type": "code",
   "execution_count": 21,
   "metadata": {},
   "outputs": [
    {
     "data": {
      "text/plain": [
       "tensor(0.0137)"
      ]
     },
     "execution_count": 21,
     "metadata": {},
     "output_type": "execute_result"
    }
   ],
   "source": [
    "(1 - ___['eval_score'])"
   ]
  },
  {
   "cell_type": "code",
   "execution_count": 2,
   "metadata": {},
   "outputs": [],
   "source": [
    "matplotlib.style.use('default')\n",
    "plt.rcParams.update({'axes.titlesize': 'large', 'axes.labelsize': 'medium'})\n",
    "colors_hex = {'blue': '#1F77B4', 'orange': '#FF7F0E', 'green': '#2CA02C'}\n",
    "colors = ['#1f77b4', '#ff7f0e', '#2ca02c', '#d62728', '#9467bd', '#8c564b', '#e377c2', '#7f7f7f', '#bcbd22', '#17becf']"
   ]
  },
  {
   "cell_type": "code",
   "execution_count": 35,
   "metadata": {},
   "outputs": [
    {
     "name": "stderr",
     "output_type": "stream",
     "text": [
      "2022-03-29 21:19:40,355 - bbb.models.layers - INFO - Weights Prior: Gaussian with mean 0 and variance 1.0\n",
      "2022-03-29 21:19:40,355 - bbb.models.layers - INFO - Biases Prior: Gaussian with mean 0 and variance 1.0\n",
      "2022-03-29 21:19:40,365 - bbb.models.layers - INFO - Weights Prior: Gaussian with mean 0 and variance 1.0\n",
      "2022-03-29 21:19:40,366 - bbb.models.layers - INFO - Biases Prior: Gaussian with mean 0 and variance 1.0\n",
      "2022-03-29 21:19:40,367 - bbb.models.layers - INFO - Weights Prior: Gaussian with mean 0 and variance 1.0\n",
      "2022-03-29 21:19:40,367 - bbb.models.layers - INFO - Biases Prior: Gaussian with mean 0 and variance 1.0\n",
      "2022-03-29 21:23:45,006 - bbb.models.layers - INFO - Weights Prior: Gaussian with mean 0 and variance 1.0\n",
      "2022-03-29 21:23:45,006 - bbb.models.layers - INFO - Biases Prior: Gaussian with mean 0 and variance 1.0\n",
      "2022-03-29 21:23:45,008 - bbb.models.layers - INFO - Weights Prior: Gaussian with mean 0 and variance 1.0\n",
      "2022-03-29 21:23:45,009 - bbb.models.layers - INFO - Biases Prior: Gaussian with mean 0 and variance 1.0\n",
      "2022-03-29 21:23:45,010 - bbb.models.layers - INFO - Weights Prior: Gaussian with mean 0 and variance 1.0\n",
      "2022-03-29 21:23:45,010 - bbb.models.layers - INFO - Biases Prior: Gaussian with mean 0 and variance 1.0\n",
      "2022-03-29 21:24:55,330 - bbb.models.layers - INFO - Weights Prior: Gaussian with mean 0 and variance 1.0\n",
      "2022-03-29 21:24:55,330 - bbb.models.layers - INFO - Biases Prior: Gaussian with mean 0 and variance 1.0\n",
      "2022-03-29 21:24:55,336 - bbb.models.layers - INFO - Weights Prior: Gaussian with mean 0 and variance 1.0\n",
      "2022-03-29 21:24:55,336 - bbb.models.layers - INFO - Biases Prior: Gaussian with mean 0 and variance 1.0\n",
      "2022-03-29 21:24:55,337 - bbb.models.layers - INFO - Weights Prior: Gaussian with mean 0 and variance 1.0\n",
      "2022-03-29 21:24:55,338 - bbb.models.layers - INFO - Biases Prior: Gaussian with mean 0 and variance 1.0\n",
      "2022-03-29 21:27:31,206 - bbb.models.layers - INFO - Weights Prior: Gaussian with mean 0 and variance 1.0\n",
      "2022-03-29 21:27:31,207 - bbb.models.layers - INFO - Biases Prior: Gaussian with mean 0 and variance 1.0\n",
      "2022-03-29 21:27:31,217 - bbb.models.layers - INFO - Weights Prior: Gaussian with mean 0 and variance 1.0\n",
      "2022-03-29 21:27:31,217 - bbb.models.layers - INFO - Biases Prior: Gaussian with mean 0 and variance 1.0\n",
      "2022-03-29 21:27:31,218 - bbb.models.layers - INFO - Weights Prior: Gaussian with mean 0 and variance 1.0\n",
      "2022-03-29 21:27:31,218 - bbb.models.layers - INFO - Biases Prior: Gaussian with mean 0 and variance 1.0\n",
      "2022-03-29 21:31:41,466 - bbb.models.layers - INFO - Weights Prior: Gaussian mixture with means (0, 0), variances (0.1353352832366127, 0.0024787521766663585) and weight 0.5\n",
      "2022-03-29 21:31:41,466 - bbb.models.layers - INFO - Biases Prior: Gaussian mixture with means (0, 0), variances (0.1353352832366127, 0.0024787521766663585) and weight 0.5\n",
      "2022-03-29 21:31:41,477 - bbb.models.layers - INFO - Weights Prior: Gaussian mixture with means (0, 0), variances (0.1353352832366127, 0.0024787521766663585) and weight 0.5\n",
      "2022-03-29 21:31:41,478 - bbb.models.layers - INFO - Biases Prior: Gaussian mixture with means (0, 0), variances (0.1353352832366127, 0.0024787521766663585) and weight 0.5\n",
      "2022-03-29 21:31:41,479 - bbb.models.layers - INFO - Weights Prior: Gaussian mixture with means (0, 0), variances (0.1353352832366127, 0.0024787521766663585) and weight 0.5\n",
      "2022-03-29 21:31:41,479 - bbb.models.layers - INFO - Biases Prior: Gaussian mixture with means (0, 0), variances (0.1353352832366127, 0.0024787521766663585) and weight 0.5\n",
      "2022-03-29 21:37:45,315 - bbb.models.layers - INFO - Weights Prior: Gaussian mixture with means (0, 0), variances (0.1353352832366127, 0.0024787521766663585) and weight 0.5\n",
      "2022-03-29 21:37:45,316 - bbb.models.layers - INFO - Biases Prior: Gaussian mixture with means (0, 0), variances (0.1353352832366127, 0.0024787521766663585) and weight 0.5\n",
      "2022-03-29 21:37:45,317 - bbb.models.layers - INFO - Weights Prior: Gaussian mixture with means (0, 0), variances (0.1353352832366127, 0.0024787521766663585) and weight 0.5\n",
      "2022-03-29 21:37:45,318 - bbb.models.layers - INFO - Biases Prior: Gaussian mixture with means (0, 0), variances (0.1353352832366127, 0.0024787521766663585) and weight 0.5\n",
      "2022-03-29 21:37:45,319 - bbb.models.layers - INFO - Weights Prior: Gaussian mixture with means (0, 0), variances (0.1353352832366127, 0.0024787521766663585) and weight 0.5\n",
      "2022-03-29 21:37:45,320 - bbb.models.layers - INFO - Biases Prior: Gaussian mixture with means (0, 0), variances (0.1353352832366127, 0.0024787521766663585) and weight 0.5\n",
      "2022-03-29 21:39:37,043 - bbb.models.layers - INFO - Weights Prior: Gaussian mixture with means (0, 0), variances (0.1353352832366127, 0.0024787521766663585) and weight 0.5\n",
      "2022-03-29 21:39:37,044 - bbb.models.layers - INFO - Biases Prior: Gaussian mixture with means (0, 0), variances (0.1353352832366127, 0.0024787521766663585) and weight 0.5\n",
      "2022-03-29 21:39:37,049 - bbb.models.layers - INFO - Weights Prior: Gaussian mixture with means (0, 0), variances (0.1353352832366127, 0.0024787521766663585) and weight 0.5\n",
      "2022-03-29 21:39:37,049 - bbb.models.layers - INFO - Biases Prior: Gaussian mixture with means (0, 0), variances (0.1353352832366127, 0.0024787521766663585) and weight 0.5\n",
      "2022-03-29 21:39:37,050 - bbb.models.layers - INFO - Weights Prior: Gaussian mixture with means (0, 0), variances (0.1353352832366127, 0.0024787521766663585) and weight 0.5\n",
      "2022-03-29 21:39:37,050 - bbb.models.layers - INFO - Biases Prior: Gaussian mixture with means (0, 0), variances (0.1353352832366127, 0.0024787521766663585) and weight 0.5\n",
      "2022-03-29 21:43:30,472 - bbb.models.layers - INFO - Weights Prior: Gaussian mixture with means (0, 0), variances (0.36787944117144233, 0.0024787521766663585) and weight 0.5\n",
      "2022-03-29 21:43:30,472 - bbb.models.layers - INFO - Biases Prior: Gaussian mixture with means (0, 0), variances (0.36787944117144233, 0.0024787521766663585) and weight 0.5\n",
      "2022-03-29 21:43:30,482 - bbb.models.layers - INFO - Weights Prior: Gaussian mixture with means (0, 0), variances (0.36787944117144233, 0.0024787521766663585) and weight 0.5\n",
      "2022-03-29 21:43:30,483 - bbb.models.layers - INFO - Biases Prior: Gaussian mixture with means (0, 0), variances (0.36787944117144233, 0.0024787521766663585) and weight 0.5\n",
      "2022-03-29 21:43:30,484 - bbb.models.layers - INFO - Weights Prior: Gaussian mixture with means (0, 0), variances (0.36787944117144233, 0.0024787521766663585) and weight 0.5\n",
      "2022-03-29 21:43:30,484 - bbb.models.layers - INFO - Biases Prior: Gaussian mixture with means (0, 0), variances (0.36787944117144233, 0.0024787521766663585) and weight 0.5\n",
      "2022-03-29 21:49:23,391 - bbb.models.layers - INFO - Weights Prior: Gaussian mixture with means (0, 0), variances (0.36787944117144233, 0.0024787521766663585) and weight 0.5\n",
      "2022-03-29 21:49:23,392 - bbb.models.layers - INFO - Biases Prior: Gaussian mixture with means (0, 0), variances (0.36787944117144233, 0.0024787521766663585) and weight 0.5\n",
      "2022-03-29 21:49:23,394 - bbb.models.layers - INFO - Weights Prior: Gaussian mixture with means (0, 0), variances (0.36787944117144233, 0.0024787521766663585) and weight 0.5\n",
      "2022-03-29 21:49:23,394 - bbb.models.layers - INFO - Biases Prior: Gaussian mixture with means (0, 0), variances (0.36787944117144233, 0.0024787521766663585) and weight 0.5\n",
      "2022-03-29 21:49:23,395 - bbb.models.layers - INFO - Weights Prior: Gaussian mixture with means (0, 0), variances (0.36787944117144233, 0.0024787521766663585) and weight 0.5\n",
      "2022-03-29 21:49:23,395 - bbb.models.layers - INFO - Biases Prior: Gaussian mixture with means (0, 0), variances (0.36787944117144233, 0.0024787521766663585) and weight 0.5\n",
      "2022-03-29 21:51:16,102 - bbb.models.layers - INFO - Weights Prior: Gaussian mixture with means (0, 0), variances (0.36787944117144233, 0.0024787521766663585) and weight 0.5\n",
      "2022-03-29 21:51:16,103 - bbb.models.layers - INFO - Biases Prior: Gaussian mixture with means (0, 0), variances (0.36787944117144233, 0.0024787521766663585) and weight 0.5\n",
      "2022-03-29 21:51:16,108 - bbb.models.layers - INFO - Weights Prior: Gaussian mixture with means (0, 0), variances (0.36787944117144233, 0.0024787521766663585) and weight 0.5\n",
      "2022-03-29 21:51:16,108 - bbb.models.layers - INFO - Biases Prior: Gaussian mixture with means (0, 0), variances (0.36787944117144233, 0.0024787521766663585) and weight 0.5\n",
      "2022-03-29 21:51:16,109 - bbb.models.layers - INFO - Weights Prior: Gaussian mixture with means (0, 0), variances (0.36787944117144233, 0.0024787521766663585) and weight 0.5\n",
      "2022-03-29 21:51:16,110 - bbb.models.layers - INFO - Biases Prior: Gaussian mixture with means (0, 0), variances (0.36787944117144233, 0.0024787521766663585) and weight 0.5\n",
      "2022-03-29 21:55:15,003 - bbb.models.layers - INFO - Weights Prior: Gaussian mixture with means (0, 0), variances (1.0, 0.2) and weight 0.5\n",
      "2022-03-29 21:55:15,004 - bbb.models.layers - INFO - Biases Prior: Gaussian mixture with means (0, 0), variances (1.0, 0.2) and weight 0.5\n",
      "2022-03-29 21:55:15,014 - bbb.models.layers - INFO - Weights Prior: Gaussian mixture with means (0, 0), variances (1.0, 0.2) and weight 0.5\n",
      "2022-03-29 21:55:15,015 - bbb.models.layers - INFO - Biases Prior: Gaussian mixture with means (0, 0), variances (1.0, 0.2) and weight 0.5\n",
      "2022-03-29 21:55:15,016 - bbb.models.layers - INFO - Weights Prior: Gaussian mixture with means (0, 0), variances (1.0, 0.2) and weight 0.5\n",
      "2022-03-29 21:55:15,016 - bbb.models.layers - INFO - Biases Prior: Gaussian mixture with means (0, 0), variances (1.0, 0.2) and weight 0.5\n",
      "2022-03-29 22:01:14,707 - bbb.models.layers - INFO - Weights Prior: Gaussian mixture with means (0, 0), variances (1.0, 0.2) and weight 0.5\n",
      "2022-03-29 22:01:14,708 - bbb.models.layers - INFO - Biases Prior: Gaussian mixture with means (0, 0), variances (1.0, 0.2) and weight 0.5\n",
      "2022-03-29 22:01:14,710 - bbb.models.layers - INFO - Weights Prior: Gaussian mixture with means (0, 0), variances (1.0, 0.2) and weight 0.5\n",
      "2022-03-29 22:01:14,710 - bbb.models.layers - INFO - Biases Prior: Gaussian mixture with means (0, 0), variances (1.0, 0.2) and weight 0.5\n",
      "2022-03-29 22:01:14,712 - bbb.models.layers - INFO - Weights Prior: Gaussian mixture with means (0, 0), variances (1.0, 0.2) and weight 0.5\n",
      "2022-03-29 22:01:14,712 - bbb.models.layers - INFO - Biases Prior: Gaussian mixture with means (0, 0), variances (1.0, 0.2) and weight 0.5\n",
      "2022-03-29 22:03:07,405 - bbb.models.layers - INFO - Weights Prior: Gaussian mixture with means (0, 0), variances (1.0, 0.2) and weight 0.5\n",
      "2022-03-29 22:03:07,405 - bbb.models.layers - INFO - Biases Prior: Gaussian mixture with means (0, 0), variances (1.0, 0.2) and weight 0.5\n",
      "2022-03-29 22:03:07,410 - bbb.models.layers - INFO - Weights Prior: Gaussian mixture with means (0, 0), variances (1.0, 0.2) and weight 0.5\n",
      "2022-03-29 22:03:07,411 - bbb.models.layers - INFO - Biases Prior: Gaussian mixture with means (0, 0), variances (1.0, 0.2) and weight 0.5\n",
      "2022-03-29 22:03:07,412 - bbb.models.layers - INFO - Weights Prior: Gaussian mixture with means (0, 0), variances (1.0, 0.2) and weight 0.5\n",
      "2022-03-29 22:03:07,412 - bbb.models.layers - INFO - Biases Prior: Gaussian mixture with means (0, 0), variances (1.0, 0.2) and weight 0.5\n",
      "2022-03-29 22:07:10,547 - bbb.models.layers - INFO - Weights Prior: Gaussian mixture with means (0, 0), variances (1.0, 0.0009118819655545162) and weight 0.5\n",
      "2022-03-29 22:07:10,547 - bbb.models.layers - INFO - Biases Prior: Gaussian mixture with means (0, 0), variances (1.0, 0.0009118819655545162) and weight 0.5\n",
      "2022-03-29 22:07:10,558 - bbb.models.layers - INFO - Weights Prior: Gaussian mixture with means (0, 0), variances (1.0, 0.0009118819655545162) and weight 0.5\n",
      "2022-03-29 22:07:10,558 - bbb.models.layers - INFO - Biases Prior: Gaussian mixture with means (0, 0), variances (1.0, 0.0009118819655545162) and weight 0.5\n",
      "2022-03-29 22:07:10,559 - bbb.models.layers - INFO - Weights Prior: Gaussian mixture with means (0, 0), variances (1.0, 0.0009118819655545162) and weight 0.5\n",
      "2022-03-29 22:07:10,560 - bbb.models.layers - INFO - Biases Prior: Gaussian mixture with means (0, 0), variances (1.0, 0.0009118819655545162) and weight 0.5\n",
      "2022-03-29 22:13:13,609 - bbb.models.layers - INFO - Weights Prior: Gaussian mixture with means (0, 0), variances (1.0, 0.0009118819655545162) and weight 0.5\n",
      "2022-03-29 22:13:13,610 - bbb.models.layers - INFO - Biases Prior: Gaussian mixture with means (0, 0), variances (1.0, 0.0009118819655545162) and weight 0.5\n",
      "2022-03-29 22:13:13,620 - bbb.models.layers - INFO - Weights Prior: Gaussian mixture with means (0, 0), variances (1.0, 0.0009118819655545162) and weight 0.5\n",
      "2022-03-29 22:13:13,621 - bbb.models.layers - INFO - Biases Prior: Gaussian mixture with means (0, 0), variances (1.0, 0.0009118819655545162) and weight 0.5\n",
      "2022-03-29 22:13:13,622 - bbb.models.layers - INFO - Weights Prior: Gaussian mixture with means (0, 0), variances (1.0, 0.0009118819655545162) and weight 0.5\n",
      "2022-03-29 22:13:13,622 - bbb.models.layers - INFO - Biases Prior: Gaussian mixture with means (0, 0), variances (1.0, 0.0009118819655545162) and weight 0.5\n",
      "2022-03-29 22:19:19,404 - bbb.models.layers - INFO - Weights Prior: Gaussian mixture with means (0, 0), variances (1.0, 0.0009118819655545162) and weight 0.5\n",
      "2022-03-29 22:19:19,405 - bbb.models.layers - INFO - Biases Prior: Gaussian mixture with means (0, 0), variances (1.0, 0.0009118819655545162) and weight 0.5\n",
      "2022-03-29 22:19:19,415 - bbb.models.layers - INFO - Weights Prior: Gaussian mixture with means (0, 0), variances (1.0, 0.0009118819655545162) and weight 0.5\n",
      "2022-03-29 22:19:19,415 - bbb.models.layers - INFO - Biases Prior: Gaussian mixture with means (0, 0), variances (1.0, 0.0009118819655545162) and weight 0.5\n",
      "2022-03-29 22:19:19,417 - bbb.models.layers - INFO - Weights Prior: Gaussian mixture with means (0, 0), variances (1.0, 0.0009118819655545162) and weight 0.5\n",
      "2022-03-29 22:19:19,417 - bbb.models.layers - INFO - Biases Prior: Gaussian mixture with means (0, 0), variances (1.0, 0.0009118819655545162) and weight 0.5\n",
      "2022-03-29 22:25:16,694 - bbb.models.layers - INFO - Weights Prior: Gaussian mixture with means (0, 0), variances (1.0, 0.0009118819655545162) and weight 0.5\n",
      "2022-03-29 22:25:16,694 - bbb.models.layers - INFO - Biases Prior: Gaussian mixture with means (0, 0), variances (1.0, 0.0009118819655545162) and weight 0.5\n",
      "2022-03-29 22:25:16,696 - bbb.models.layers - INFO - Weights Prior: Gaussian mixture with means (0, 0), variances (1.0, 0.0009118819655545162) and weight 0.5\n",
      "2022-03-29 22:25:16,696 - bbb.models.layers - INFO - Biases Prior: Gaussian mixture with means (0, 0), variances (1.0, 0.0009118819655545162) and weight 0.5\n",
      "2022-03-29 22:25:16,697 - bbb.models.layers - INFO - Weights Prior: Gaussian mixture with means (0, 0), variances (1.0, 0.0009118819655545162) and weight 0.5\n",
      "2022-03-29 22:25:16,698 - bbb.models.layers - INFO - Biases Prior: Gaussian mixture with means (0, 0), variances (1.0, 0.0009118819655545162) and weight 0.5\n",
      "2022-03-29 22:27:08,096 - bbb.models.layers - INFO - Weights Prior: Gaussian mixture with means (0, 0), variances (1.0, 0.0009118819655545162) and weight 0.5\n",
      "2022-03-29 22:27:08,096 - bbb.models.layers - INFO - Biases Prior: Gaussian mixture with means (0, 0), variances (1.0, 0.0009118819655545162) and weight 0.5\n",
      "2022-03-29 22:27:08,098 - bbb.models.layers - INFO - Weights Prior: Gaussian mixture with means (0, 0), variances (1.0, 0.0009118819655545162) and weight 0.5\n",
      "2022-03-29 22:27:08,099 - bbb.models.layers - INFO - Biases Prior: Gaussian mixture with means (0, 0), variances (1.0, 0.0009118819655545162) and weight 0.5\n",
      "2022-03-29 22:27:08,100 - bbb.models.layers - INFO - Weights Prior: Gaussian mixture with means (0, 0), variances (1.0, 0.0009118819655545162) and weight 0.5\n",
      "2022-03-29 22:27:08,100 - bbb.models.layers - INFO - Biases Prior: Gaussian mixture with means (0, 0), variances (1.0, 0.0009118819655545162) and weight 0.5\n",
      "2022-03-29 22:29:00,521 - bbb.models.layers - INFO - Weights Prior: Gaussian mixture with means (0, 0), variances (1.0, 0.0009118819655545162) and weight 0.5\n",
      "2022-03-29 22:29:00,521 - bbb.models.layers - INFO - Biases Prior: Gaussian mixture with means (0, 0), variances (1.0, 0.0009118819655545162) and weight 0.5\n",
      "2022-03-29 22:29:00,527 - bbb.models.layers - INFO - Weights Prior: Gaussian mixture with means (0, 0), variances (1.0, 0.0009118819655545162) and weight 0.5\n",
      "2022-03-29 22:29:00,527 - bbb.models.layers - INFO - Biases Prior: Gaussian mixture with means (0, 0), variances (1.0, 0.0009118819655545162) and weight 0.5\n",
      "2022-03-29 22:29:00,528 - bbb.models.layers - INFO - Weights Prior: Gaussian mixture with means (0, 0), variances (1.0, 0.0009118819655545162) and weight 0.5\n",
      "2022-03-29 22:29:00,528 - bbb.models.layers - INFO - Biases Prior: Gaussian mixture with means (0, 0), variances (1.0, 0.0009118819655545162) and weight 0.5\n",
      "2022-03-29 22:32:57,404 - bbb.models.layers - INFO - Weights Prior: Gaussian mixture with means (0, 0), variances (1.0, 0.00033546262790251185) and weight 0.5\n",
      "2022-03-29 22:32:57,405 - bbb.models.layers - INFO - Biases Prior: Gaussian mixture with means (0, 0), variances (1.0, 0.00033546262790251185) and weight 0.5\n",
      "2022-03-29 22:32:57,415 - bbb.models.layers - INFO - Weights Prior: Gaussian mixture with means (0, 0), variances (1.0, 0.00033546262790251185) and weight 0.5\n",
      "2022-03-29 22:32:57,415 - bbb.models.layers - INFO - Biases Prior: Gaussian mixture with means (0, 0), variances (1.0, 0.00033546262790251185) and weight 0.5\n",
      "2022-03-29 22:32:57,416 - bbb.models.layers - INFO - Weights Prior: Gaussian mixture with means (0, 0), variances (1.0, 0.00033546262790251185) and weight 0.5\n",
      "2022-03-29 22:32:57,416 - bbb.models.layers - INFO - Biases Prior: Gaussian mixture with means (0, 0), variances (1.0, 0.00033546262790251185) and weight 0.5\n",
      "2022-03-29 22:38:48,419 - bbb.models.layers - INFO - Weights Prior: Gaussian mixture with means (0, 0), variances (1.0, 0.00033546262790251185) and weight 0.5\n",
      "2022-03-29 22:38:48,419 - bbb.models.layers - INFO - Biases Prior: Gaussian mixture with means (0, 0), variances (1.0, 0.00033546262790251185) and weight 0.5\n",
      "2022-03-29 22:38:48,421 - bbb.models.layers - INFO - Weights Prior: Gaussian mixture with means (0, 0), variances (1.0, 0.00033546262790251185) and weight 0.5\n",
      "2022-03-29 22:38:48,422 - bbb.models.layers - INFO - Biases Prior: Gaussian mixture with means (0, 0), variances (1.0, 0.00033546262790251185) and weight 0.5\n",
      "2022-03-29 22:38:48,423 - bbb.models.layers - INFO - Weights Prior: Gaussian mixture with means (0, 0), variances (1.0, 0.00033546262790251185) and weight 0.5\n",
      "2022-03-29 22:38:48,423 - bbb.models.layers - INFO - Biases Prior: Gaussian mixture with means (0, 0), variances (1.0, 0.00033546262790251185) and weight 0.5\n",
      "2022-03-29 22:40:38,950 - bbb.models.layers - INFO - Weights Prior: Gaussian mixture with means (0, 0), variances (1.0, 0.00033546262790251185) and weight 0.5\n",
      "2022-03-29 22:40:38,950 - bbb.models.layers - INFO - Biases Prior: Gaussian mixture with means (0, 0), variances (1.0, 0.00033546262790251185) and weight 0.5\n",
      "2022-03-29 22:40:38,956 - bbb.models.layers - INFO - Weights Prior: Gaussian mixture with means (0, 0), variances (1.0, 0.00033546262790251185) and weight 0.5\n",
      "2022-03-29 22:40:38,956 - bbb.models.layers - INFO - Biases Prior: Gaussian mixture with means (0, 0), variances (1.0, 0.00033546262790251185) and weight 0.5\n",
      "2022-03-29 22:40:38,957 - bbb.models.layers - INFO - Weights Prior: Gaussian mixture with means (0, 0), variances (1.0, 0.00033546262790251185) and weight 0.5\n",
      "2022-03-29 22:40:38,957 - bbb.models.layers - INFO - Biases Prior: Gaussian mixture with means (0, 0), variances (1.0, 0.00033546262790251185) and weight 0.5\n",
      "2022-03-29 22:44:37,066 - bbb.models.layers - INFO - Weights Prior: Gaussian mixture with means (0, 0), variances (1.0, 0.0024787521766663585) and weight 0.75\n",
      "2022-03-29 22:44:37,067 - bbb.models.layers - INFO - Biases Prior: Gaussian mixture with means (0, 0), variances (1.0, 0.0024787521766663585) and weight 0.75\n",
      "2022-03-29 22:44:37,077 - bbb.models.layers - INFO - Weights Prior: Gaussian mixture with means (0, 0), variances (1.0, 0.0024787521766663585) and weight 0.75\n",
      "2022-03-29 22:44:37,077 - bbb.models.layers - INFO - Biases Prior: Gaussian mixture with means (0, 0), variances (1.0, 0.0024787521766663585) and weight 0.75\n",
      "2022-03-29 22:44:37,078 - bbb.models.layers - INFO - Weights Prior: Gaussian mixture with means (0, 0), variances (1.0, 0.0024787521766663585) and weight 0.75\n",
      "2022-03-29 22:44:37,078 - bbb.models.layers - INFO - Biases Prior: Gaussian mixture with means (0, 0), variances (1.0, 0.0024787521766663585) and weight 0.75\n",
      "2022-03-29 22:50:32,050 - bbb.models.layers - INFO - Weights Prior: Gaussian mixture with means (0, 0), variances (1.0, 0.0024787521766663585) and weight 0.75\n",
      "2022-03-29 22:50:32,051 - bbb.models.layers - INFO - Biases Prior: Gaussian mixture with means (0, 0), variances (1.0, 0.0024787521766663585) and weight 0.75\n",
      "2022-03-29 22:50:32,053 - bbb.models.layers - INFO - Weights Prior: Gaussian mixture with means (0, 0), variances (1.0, 0.0024787521766663585) and weight 0.75\n",
      "2022-03-29 22:50:32,053 - bbb.models.layers - INFO - Biases Prior: Gaussian mixture with means (0, 0), variances (1.0, 0.0024787521766663585) and weight 0.75\n",
      "2022-03-29 22:50:32,054 - bbb.models.layers - INFO - Weights Prior: Gaussian mixture with means (0, 0), variances (1.0, 0.0024787521766663585) and weight 0.75\n",
      "2022-03-29 22:50:32,055 - bbb.models.layers - INFO - Biases Prior: Gaussian mixture with means (0, 0), variances (1.0, 0.0024787521766663585) and weight 0.75\n",
      "2022-03-29 22:52:21,760 - bbb.models.layers - INFO - Weights Prior: Gaussian mixture with means (0, 0), variances (1.0, 0.0024787521766663585) and weight 0.75\n",
      "2022-03-29 22:52:21,760 - bbb.models.layers - INFO - Biases Prior: Gaussian mixture with means (0, 0), variances (1.0, 0.0024787521766663585) and weight 0.75\n",
      "2022-03-29 22:52:21,765 - bbb.models.layers - INFO - Weights Prior: Gaussian mixture with means (0, 0), variances (1.0, 0.0024787521766663585) and weight 0.75\n",
      "2022-03-29 22:52:21,765 - bbb.models.layers - INFO - Biases Prior: Gaussian mixture with means (0, 0), variances (1.0, 0.0024787521766663585) and weight 0.75\n",
      "2022-03-29 22:52:21,766 - bbb.models.layers - INFO - Weights Prior: Gaussian mixture with means (0, 0), variances (1.0, 0.0024787521766663585) and weight 0.75\n",
      "2022-03-29 22:52:21,767 - bbb.models.layers - INFO - Biases Prior: Gaussian mixture with means (0, 0), variances (1.0, 0.0024787521766663585) and weight 0.75\n",
      "2022-03-29 22:56:12,923 - bbb.models.layers - INFO - Weights Prior: Gaussian mixture with means (0, 0), variances (1.0, 0.0024787521766663585) and weight 0.25\n",
      "2022-03-29 22:56:12,923 - bbb.models.layers - INFO - Biases Prior: Gaussian mixture with means (0, 0), variances (1.0, 0.0024787521766663585) and weight 0.25\n",
      "2022-03-29 22:56:12,933 - bbb.models.layers - INFO - Weights Prior: Gaussian mixture with means (0, 0), variances (1.0, 0.0024787521766663585) and weight 0.25\n",
      "2022-03-29 22:56:12,934 - bbb.models.layers - INFO - Biases Prior: Gaussian mixture with means (0, 0), variances (1.0, 0.0024787521766663585) and weight 0.25\n",
      "2022-03-29 22:56:12,935 - bbb.models.layers - INFO - Weights Prior: Gaussian mixture with means (0, 0), variances (1.0, 0.0024787521766663585) and weight 0.25\n",
      "2022-03-29 22:56:12,935 - bbb.models.layers - INFO - Biases Prior: Gaussian mixture with means (0, 0), variances (1.0, 0.0024787521766663585) and weight 0.25\n",
      "2022-03-29 23:02:02,197 - bbb.models.layers - INFO - Weights Prior: Gaussian mixture with means (0, 0), variances (1.0, 0.0024787521766663585) and weight 0.25\n",
      "2022-03-29 23:02:02,198 - bbb.models.layers - INFO - Biases Prior: Gaussian mixture with means (0, 0), variances (1.0, 0.0024787521766663585) and weight 0.25\n",
      "2022-03-29 23:02:02,200 - bbb.models.layers - INFO - Weights Prior: Gaussian mixture with means (0, 0), variances (1.0, 0.0024787521766663585) and weight 0.25\n",
      "2022-03-29 23:02:02,200 - bbb.models.layers - INFO - Biases Prior: Gaussian mixture with means (0, 0), variances (1.0, 0.0024787521766663585) and weight 0.25\n",
      "2022-03-29 23:02:02,201 - bbb.models.layers - INFO - Weights Prior: Gaussian mixture with means (0, 0), variances (1.0, 0.0024787521766663585) and weight 0.25\n",
      "2022-03-29 23:02:02,202 - bbb.models.layers - INFO - Biases Prior: Gaussian mixture with means (0, 0), variances (1.0, 0.0024787521766663585) and weight 0.25\n",
      "2022-03-29 23:03:45,047 - bbb.models.layers - INFO - Weights Prior: Gaussian mixture with means (0, 0), variances (1.0, 0.0024787521766663585) and weight 0.25\n",
      "2022-03-29 23:03:45,047 - bbb.models.layers - INFO - Biases Prior: Gaussian mixture with means (0, 0), variances (1.0, 0.0024787521766663585) and weight 0.25\n",
      "2022-03-29 23:03:45,052 - bbb.models.layers - INFO - Weights Prior: Gaussian mixture with means (0, 0), variances (1.0, 0.0024787521766663585) and weight 0.25\n",
      "2022-03-29 23:03:45,053 - bbb.models.layers - INFO - Biases Prior: Gaussian mixture with means (0, 0), variances (1.0, 0.0024787521766663585) and weight 0.25\n",
      "2022-03-29 23:03:45,054 - bbb.models.layers - INFO - Weights Prior: Gaussian mixture with means (0, 0), variances (1.0, 0.0024787521766663585) and weight 0.25\n",
      "2022-03-29 23:03:45,054 - bbb.models.layers - INFO - Biases Prior: Gaussian mixture with means (0, 0), variances (1.0, 0.0024787521766663585) and weight 0.25\n",
      "2022-03-29 23:07:36,455 - bbb.models.layers - INFO - Weights Prior: Gaussian mixture with means (0, 0), variances (1.0, 0.0024787521766663585) and weight 0.5\n",
      "2022-03-29 23:07:36,455 - bbb.models.layers - INFO - Biases Prior: Gaussian mixture with means (0, 0), variances (1.0, 0.0024787521766663585) and weight 0.5\n",
      "2022-03-29 23:07:36,466 - bbb.models.layers - INFO - Weights Prior: Gaussian mixture with means (0, 0), variances (1.0, 0.0024787521766663585) and weight 0.5\n",
      "2022-03-29 23:07:36,466 - bbb.models.layers - INFO - Biases Prior: Gaussian mixture with means (0, 0), variances (1.0, 0.0024787521766663585) and weight 0.5\n",
      "2022-03-29 23:07:36,467 - bbb.models.layers - INFO - Weights Prior: Gaussian mixture with means (0, 0), variances (1.0, 0.0024787521766663585) and weight 0.5\n",
      "2022-03-29 23:07:36,467 - bbb.models.layers - INFO - Biases Prior: Gaussian mixture with means (0, 0), variances (1.0, 0.0024787521766663585) and weight 0.5\n",
      "2022-03-29 23:13:23,760 - bbb.models.layers - INFO - Weights Prior: Gaussian mixture with means (0, 0), variances (1.0, 0.0024787521766663585) and weight 0.5\n",
      "2022-03-29 23:13:23,760 - bbb.models.layers - INFO - Biases Prior: Gaussian mixture with means (0, 0), variances (1.0, 0.0024787521766663585) and weight 0.5\n",
      "2022-03-29 23:13:23,762 - bbb.models.layers - INFO - Weights Prior: Gaussian mixture with means (0, 0), variances (1.0, 0.0024787521766663585) and weight 0.5\n",
      "2022-03-29 23:13:23,762 - bbb.models.layers - INFO - Biases Prior: Gaussian mixture with means (0, 0), variances (1.0, 0.0024787521766663585) and weight 0.5\n",
      "2022-03-29 23:13:23,763 - bbb.models.layers - INFO - Weights Prior: Gaussian mixture with means (0, 0), variances (1.0, 0.0024787521766663585) and weight 0.5\n",
      "2022-03-29 23:13:23,763 - bbb.models.layers - INFO - Biases Prior: Gaussian mixture with means (0, 0), variances (1.0, 0.0024787521766663585) and weight 0.5\n",
      "2022-03-29 23:15:04,394 - bbb.models.layers - INFO - Weights Prior: Gaussian mixture with means (0, 0), variances (1.0, 0.0024787521766663585) and weight 0.5\n",
      "2022-03-29 23:15:04,395 - bbb.models.layers - INFO - Biases Prior: Gaussian mixture with means (0, 0), variances (1.0, 0.0024787521766663585) and weight 0.5\n",
      "2022-03-29 23:15:04,400 - bbb.models.layers - INFO - Weights Prior: Gaussian mixture with means (0, 0), variances (1.0, 0.0024787521766663585) and weight 0.5\n",
      "2022-03-29 23:15:04,400 - bbb.models.layers - INFO - Biases Prior: Gaussian mixture with means (0, 0), variances (1.0, 0.0024787521766663585) and weight 0.5\n",
      "2022-03-29 23:15:04,401 - bbb.models.layers - INFO - Weights Prior: Gaussian mixture with means (0, 0), variances (1.0, 0.0024787521766663585) and weight 0.5\n",
      "2022-03-29 23:15:04,402 - bbb.models.layers - INFO - Biases Prior: Gaussian mixture with means (0, 0), variances (1.0, 0.0024787521766663585) and weight 0.5\n"
     ]
    }
   ],
   "source": [
    "mog_directory = os.fsencode(\"../saved_models/BBB_classification/baseline/mog_prior/\")\n",
    "sgp_directory = os.fsencode(\"../saved_models/BBB_classification/baseline/single_gaussian_prior/\")\n",
    "X_val = load_mnist(train=False, batch_size=params.batch_size, shuffle=True)\n",
    "\n",
    "eval_dict = {}\n",
    "dirs = [sgp_directory, mog_directory]\n",
    "for directory in dirs:\n",
    "    for root, subdirs, files in os.walk(directory):\n",
    "        root = os.fsdecode(root)\n",
    "\n",
    "        if root.split('/')[-1].__contains__(\".\") and root.split('/')[-2].__contains__(\"0\"): # dst folder (time stamp, hidden units)\n",
    "            \n",
    "            model_name = \"/\".join(root.split('/')[-4:])\n",
    "            \n",
    "            with open(os.path.join(root, 'params.txt'), 'r') as f:\n",
    "                params_dict = json.load(f)\n",
    "\n",
    "            # Need to deserialise the prior_params into a PriorParameters object\n",
    "            if params_dict['prior_params']:\n",
    "                params_dict['prior_params'] = PriorParameters(**params_dict['prior_params'])\n",
    "\n",
    "            params = Parameters(**params_dict)\n",
    "\n",
    "            net = ClassificationBNN(params=params, eval_mode=True)\n",
    "            net.model.load_state_dict(torch.load(os.path.join(root, 'model.pt'), map_location=torch.device('cpu')))\n",
    "\n",
    "            net.inference_samples = 50\n",
    "        \n",
    "            res = evaluate_classifier(net, X_val)\n",
    "        \n",
    "            test_error = 1 - res['eval_score'].item()\n",
    "\n",
    "            # eval_metric = np.load(os.path.join(root, 'eval_metric.npy'))\n",
    "            # eval_dict[model_name] = round(1-eval_metric[-1], 4)\n",
    "        \n",
    "            eval_dict[model_name] = round(test_error, 5)"
   ]
  },
  {
   "cell_type": "code",
   "execution_count": 36,
   "metadata": {},
   "outputs": [
    {
     "data": {
      "text/plain": [
       "{'single_gaussian_prior/300_epochs/1200/2022-03-15-09.18.07': 0.01573,\n",
       " 'single_gaussian_prior/300_epochs/400/2022-03-15-14.26.34': 0.01552,\n",
       " 'single_gaussian_prior/300_epochs/800/2022-03-15-14.25.46': 0.01593,\n",
       " 'single_gaussian_prior/600_epochs/1200/2022-03-27-20.30.22': 0.01232,\n",
       " 'mog_prior/sigma_1_exp_2_sigma_2_exp_6/1200/2022-03-27-00.06.29': 0.02324,\n",
       " 'mog_prior/sigma_1_exp_2_sigma_2_exp_6/400/2022-03-27-07.52.03': 0.02113,\n",
       " 'mog_prior/sigma_1_exp_2_sigma_2_exp_6/800/2022-03-26-23.55.35': 0.02033,\n",
       " 'mog_prior/sigma_1_exp_1_sigma_2_exp_6/1200/2022-03-26-19.41.39': 0.01873,\n",
       " 'mog_prior/sigma_1_exp_1_sigma_2_exp_6/400/2022-03-26-19.39.24': 0.01552,\n",
       " 'mog_prior/sigma_1_exp_1_sigma_2_exp_6/800/2022-03-26-20.37.06': 0.01783,\n",
       " 'mog_prior/sigma_1_1_sigma_2_0.2/1200/2022-03-15-18.38.27': 0.01372,\n",
       " 'mog_prior/sigma_1_1_sigma_2_0.2/400/2022-03-15-21.48.39': 0.01422,\n",
       " 'mog_prior/sigma_1_1_sigma_2_0.2/800/2022-03-15-18.43.25': 0.01482,\n",
       " 'sigma_1_1_sigma_2_exp_7/1200/300_epochs/2022-03-27-07.54.00': 0.01593,\n",
       " 'sigma_1_1_sigma_2_exp_7/1200/600_epochs/2022-03-27-16.24.44': 0.01402,\n",
       " 'sigma_1_1_sigma_2_exp_7/1200/600_epochs/2022-03-29-11.30.06': 0.01352,\n",
       " 'mog_prior/sigma_1_1_sigma_2_exp_7/400/2022-03-27-07.55.07': 0.01432,\n",
       " 'sigma_1_1_sigma_2_exp_7/400/600_epochs/2022-03-29-17.41.59': 0.01392,\n",
       " 'mog_prior/sigma_1_1_sigma_2_exp_7/800/2022-03-27-10.10.21': 0.01813,\n",
       " 'mog_prior/sigma_1_1_sigma_2_exp_8/1200/2022-03-27-12.32.07': 0.01803,\n",
       " 'mog_prior/sigma_1_1_sigma_2_exp_8/400/2022-03-27-12.30.32': 0.01683,\n",
       " 'mog_prior/sigma_1_1_sigma_2_exp_8/800/2022-03-27-12.33.35': 0.01733,\n",
       " 'sigma_1_1_sigma_2_exp_6/m_0.75/1200/2022-03-26-16.22.19': 0.01823,\n",
       " 'sigma_1_1_sigma_2_exp_6/m_0.75/400/2022-03-26-17.51.48': 0.01673,\n",
       " 'sigma_1_1_sigma_2_exp_6/m_0.75/800/2022-03-26-16.29.14': 0.02053,\n",
       " 'sigma_1_1_sigma_2_exp_6/m_0.25/1200/2022-03-26-22.55.11': 0.01903,\n",
       " 'sigma_1_1_sigma_2_exp_6/m_0.25/400/2022-03-26-22.55.54': 0.01753,\n",
       " 'sigma_1_1_sigma_2_exp_6/m_0.25/800/2022-03-26-22.55.35': 0.01532,\n",
       " 'sigma_1_1_sigma_2_exp_6/m_0.5/1200/2022-03-26-10.42.39': 0.01843,\n",
       " 'sigma_1_1_sigma_2_exp_6/m_0.5/400/2022-03-26-10.51.52': 0.01893,\n",
       " 'sigma_1_1_sigma_2_exp_6/m_0.5/800/2022-03-26-10.44.58': 0.01522}"
      ]
     },
     "execution_count": 36,
     "metadata": {},
     "output_type": "execute_result"
    }
   ],
   "source": [
    "eval_dict"
   ]
  },
  {
   "cell_type": "code",
   "execution_count": 47,
   "metadata": {},
   "outputs": [
    {
     "name": "stderr",
     "output_type": "stream",
     "text": [
      "2022-03-30 00:47:12,284 - bbb.models.layers - INFO - Weights Prior: Gaussian with mean 0 and variance 1.0\n",
      "2022-03-30 00:47:12,284 - bbb.models.layers - INFO - Biases Prior: Gaussian with mean 0 and variance 1.0\n",
      "2022-03-30 00:47:12,294 - bbb.models.layers - INFO - Weights Prior: Gaussian with mean 0 and variance 1.0\n",
      "2022-03-30 00:47:12,295 - bbb.models.layers - INFO - Biases Prior: Gaussian with mean 0 and variance 1.0\n",
      "2022-03-30 00:47:12,296 - bbb.models.layers - INFO - Weights Prior: Gaussian with mean 0 and variance 1.0\n",
      "2022-03-30 00:47:12,296 - bbb.models.layers - INFO - Biases Prior: Gaussian with mean 0 and variance 1.0\n",
      "2022-03-30 00:48:03,113 - bbb.models.layers - INFO - Weights Prior: Gaussian with mean 0 and variance 1.0\n",
      "2022-03-30 00:48:03,114 - bbb.models.layers - INFO - Biases Prior: Gaussian with mean 0 and variance 1.0\n",
      "2022-03-30 00:48:03,119 - bbb.models.layers - INFO - Weights Prior: Gaussian with mean 0 and variance 1.0\n",
      "2022-03-30 00:48:03,119 - bbb.models.layers - INFO - Biases Prior: Gaussian with mean 0 and variance 1.0\n",
      "2022-03-30 00:48:03,120 - bbb.models.layers - INFO - Weights Prior: Gaussian with mean 0 and variance 1.0\n",
      "2022-03-30 00:48:03,120 - bbb.models.layers - INFO - Biases Prior: Gaussian with mean 0 and variance 1.0\n"
     ]
    },
    {
     "name": "stdout",
     "output_type": "stream",
     "text": [
      "bnn_sgp_1200 0.01502\n"
     ]
    },
    {
     "name": "stderr",
     "output_type": "stream",
     "text": [
      "2022-03-30 00:48:35,585 - bbb.models.layers - INFO - Weights Prior: Gaussian with mean 0 and variance 1.0\n",
      "2022-03-30 00:48:35,585 - bbb.models.layers - INFO - Biases Prior: Gaussian with mean 0 and variance 1.0\n",
      "2022-03-30 00:48:35,587 - bbb.models.layers - INFO - Weights Prior: Gaussian with mean 0 and variance 1.0\n",
      "2022-03-30 00:48:35,587 - bbb.models.layers - INFO - Biases Prior: Gaussian with mean 0 and variance 1.0\n",
      "2022-03-30 00:48:35,589 - bbb.models.layers - INFO - Weights Prior: Gaussian with mean 0 and variance 1.0\n",
      "2022-03-30 00:48:35,589 - bbb.models.layers - INFO - Biases Prior: Gaussian with mean 0 and variance 1.0\n"
     ]
    },
    {
     "name": "stdout",
     "output_type": "stream",
     "text": [
      "bnn_sgp_800 0.01683\n"
     ]
    },
    {
     "name": "stderr",
     "output_type": "stream",
     "text": [
      "2022-03-30 00:48:49,760 - bbb.models.layers - INFO - Weights Prior: Gaussian with mean 0 and variance 1.0\n",
      "2022-03-30 00:48:49,760 - bbb.models.layers - INFO - Biases Prior: Gaussian with mean 0 and variance 1.0\n",
      "2022-03-30 00:48:49,770 - bbb.models.layers - INFO - Weights Prior: Gaussian with mean 0 and variance 1.0\n",
      "2022-03-30 00:48:49,770 - bbb.models.layers - INFO - Biases Prior: Gaussian with mean 0 and variance 1.0\n",
      "2022-03-30 00:48:49,771 - bbb.models.layers - INFO - Weights Prior: Gaussian with mean 0 and variance 1.0\n",
      "2022-03-30 00:48:49,771 - bbb.models.layers - INFO - Biases Prior: Gaussian with mean 0 and variance 1.0\n"
     ]
    },
    {
     "name": "stdout",
     "output_type": "stream",
     "text": [
      "bnn_sgp_400 0.01643\n"
     ]
    },
    {
     "name": "stderr",
     "output_type": "stream",
     "text": [
      "2022-03-30 00:49:40,205 - bbb.models.layers - INFO - Weights Prior: Gaussian with mean 0 and variance 1.0\n",
      "2022-03-30 00:49:40,206 - bbb.models.layers - INFO - Biases Prior: Gaussian with mean 0 and variance 1.0\n",
      "2022-03-30 00:49:40,210 - bbb.models.layers - INFO - Weights Prior: Gaussian with mean 0 and variance 1.0\n",
      "2022-03-30 00:49:40,211 - bbb.models.layers - INFO - Biases Prior: Gaussian with mean 0 and variance 1.0\n",
      "2022-03-30 00:49:40,212 - bbb.models.layers - INFO - Weights Prior: Gaussian with mean 0 and variance 1.0\n",
      "2022-03-30 00:49:40,212 - bbb.models.layers - INFO - Biases Prior: Gaussian with mean 0 and variance 1.0\n"
     ]
    },
    {
     "name": "stdout",
     "output_type": "stream",
     "text": [
      "bnn_sgp_600_1200 0.01352\n"
     ]
    },
    {
     "name": "stderr",
     "output_type": "stream",
     "text": [
      "2022-03-30 00:50:11,363 - bbb.models.layers - INFO - Weights Prior: Gaussian with mean 0 and variance 1.0\n",
      "2022-03-30 00:50:11,364 - bbb.models.layers - INFO - Biases Prior: Gaussian with mean 0 and variance 1.0\n",
      "2022-03-30 00:50:11,365 - bbb.models.layers - INFO - Weights Prior: Gaussian with mean 0 and variance 1.0\n",
      "2022-03-30 00:50:11,365 - bbb.models.layers - INFO - Biases Prior: Gaussian with mean 0 and variance 1.0\n",
      "2022-03-30 00:50:11,366 - bbb.models.layers - INFO - Weights Prior: Gaussian with mean 0 and variance 1.0\n",
      "2022-03-30 00:50:11,367 - bbb.models.layers - INFO - Biases Prior: Gaussian with mean 0 and variance 1.0\n"
     ]
    },
    {
     "name": "stdout",
     "output_type": "stream",
     "text": [
      "bnn_sgp_600_800 0.01192\n"
     ]
    },
    {
     "name": "stderr",
     "output_type": "stream",
     "text": [
      "2022-03-30 00:50:25,046 - bbb.models.layers - INFO - Weights Prior: Gaussian mixture with means (0, 0), variances (1.0, 0.0009118819655545162) and weight 0.5\n",
      "2022-03-30 00:50:25,046 - bbb.models.layers - INFO - Biases Prior: Gaussian mixture with means (0, 0), variances (1.0, 0.0009118819655545162) and weight 0.5\n",
      "2022-03-30 00:50:25,056 - bbb.models.layers - INFO - Weights Prior: Gaussian mixture with means (0, 0), variances (1.0, 0.0009118819655545162) and weight 0.5\n",
      "2022-03-30 00:50:25,057 - bbb.models.layers - INFO - Biases Prior: Gaussian mixture with means (0, 0), variances (1.0, 0.0009118819655545162) and weight 0.5\n",
      "2022-03-30 00:50:25,058 - bbb.models.layers - INFO - Weights Prior: Gaussian mixture with means (0, 0), variances (1.0, 0.0009118819655545162) and weight 0.5\n",
      "2022-03-30 00:50:25,058 - bbb.models.layers - INFO - Biases Prior: Gaussian mixture with means (0, 0), variances (1.0, 0.0009118819655545162) and weight 0.5\n"
     ]
    },
    {
     "name": "stdout",
     "output_type": "stream",
     "text": [
      "bnn_sgp_600_400 0.01312\n"
     ]
    },
    {
     "name": "stderr",
     "output_type": "stream",
     "text": [
      "2022-03-30 00:51:37,156 - bbb.models.layers - INFO - Weights Prior: Gaussian mixture with means (0, 0), variances (1.0, 0.0009118819655545162) and weight 0.5\n",
      "2022-03-30 00:51:37,156 - bbb.models.layers - INFO - Biases Prior: Gaussian mixture with means (0, 0), variances (1.0, 0.0009118819655545162) and weight 0.5\n",
      "2022-03-30 00:51:37,161 - bbb.models.layers - INFO - Weights Prior: Gaussian mixture with means (0, 0), variances (1.0, 0.0009118819655545162) and weight 0.5\n",
      "2022-03-30 00:51:37,162 - bbb.models.layers - INFO - Biases Prior: Gaussian mixture with means (0, 0), variances (1.0, 0.0009118819655545162) and weight 0.5\n",
      "2022-03-30 00:51:37,163 - bbb.models.layers - INFO - Weights Prior: Gaussian mixture with means (0, 0), variances (1.0, 0.0009118819655545162) and weight 0.5\n",
      "2022-03-30 00:51:37,163 - bbb.models.layers - INFO - Biases Prior: Gaussian mixture with means (0, 0), variances (1.0, 0.0009118819655545162) and weight 0.5\n"
     ]
    },
    {
     "name": "stdout",
     "output_type": "stream",
     "text": [
      "bnn_mog_600_1200 0.01452\n"
     ]
    },
    {
     "name": "stderr",
     "output_type": "stream",
     "text": [
      "2022-03-30 00:52:24,401 - bbb.models.layers - INFO - Weights Prior: Gaussian mixture with means (0, 0), variances (1.0, 0.0009118819655545162) and weight 0.5\n",
      "2022-03-30 00:52:24,402 - bbb.models.layers - INFO - Biases Prior: Gaussian mixture with means (0, 0), variances (1.0, 0.0009118819655545162) and weight 0.5\n",
      "2022-03-30 00:52:24,404 - bbb.models.layers - INFO - Weights Prior: Gaussian mixture with means (0, 0), variances (1.0, 0.0009118819655545162) and weight 0.5\n",
      "2022-03-30 00:52:24,404 - bbb.models.layers - INFO - Biases Prior: Gaussian mixture with means (0, 0), variances (1.0, 0.0009118819655545162) and weight 0.5\n",
      "2022-03-30 00:52:24,405 - bbb.models.layers - INFO - Weights Prior: Gaussian mixture with means (0, 0), variances (1.0, 0.0009118819655545162) and weight 0.5\n",
      "2022-03-30 00:52:24,406 - bbb.models.layers - INFO - Biases Prior: Gaussian mixture with means (0, 0), variances (1.0, 0.0009118819655545162) and weight 0.5\n"
     ]
    },
    {
     "name": "stdout",
     "output_type": "stream",
     "text": [
      "bnn_mog_600_800 0.01422\n"
     ]
    },
    {
     "name": "stderr",
     "output_type": "stream",
     "text": [
      "2022-03-30 00:52:47,110 - bbb.models.layers - INFO - Weights Prior: Gaussian mixture with means (0, 0), variances (1.0, 0.0009118819655545162) and weight 0.5\n",
      "2022-03-30 00:52:47,110 - bbb.models.layers - INFO - Biases Prior: Gaussian mixture with means (0, 0), variances (1.0, 0.0009118819655545162) and weight 0.5\n",
      "2022-03-30 00:52:47,121 - bbb.models.layers - INFO - Weights Prior: Gaussian mixture with means (0, 0), variances (1.0, 0.0009118819655545162) and weight 0.5\n",
      "2022-03-30 00:52:47,121 - bbb.models.layers - INFO - Biases Prior: Gaussian mixture with means (0, 0), variances (1.0, 0.0009118819655545162) and weight 0.5\n",
      "2022-03-30 00:52:47,122 - bbb.models.layers - INFO - Weights Prior: Gaussian mixture with means (0, 0), variances (1.0, 0.0009118819655545162) and weight 0.5\n",
      "2022-03-30 00:52:47,122 - bbb.models.layers - INFO - Biases Prior: Gaussian mixture with means (0, 0), variances (1.0, 0.0009118819655545162) and weight 0.5\n"
     ]
    },
    {
     "name": "stdout",
     "output_type": "stream",
     "text": [
      "bnn_mog_600_400 0.01422\n"
     ]
    },
    {
     "name": "stderr",
     "output_type": "stream",
     "text": [
      "2022-03-30 00:53:59,788 - bbb.models.layers - INFO - Weights Prior: Gaussian mixture with means (0, 0), variances (1.0, 0.0009118819655545162) and weight 0.5\n",
      "2022-03-30 00:53:59,789 - bbb.models.layers - INFO - Biases Prior: Gaussian mixture with means (0, 0), variances (1.0, 0.0009118819655545162) and weight 0.5\n",
      "2022-03-30 00:53:59,794 - bbb.models.layers - INFO - Weights Prior: Gaussian mixture with means (0, 0), variances (1.0, 0.0009118819655545162) and weight 0.5\n",
      "2022-03-30 00:53:59,794 - bbb.models.layers - INFO - Biases Prior: Gaussian mixture with means (0, 0), variances (1.0, 0.0009118819655545162) and weight 0.5\n",
      "2022-03-30 00:53:59,796 - bbb.models.layers - INFO - Weights Prior: Gaussian mixture with means (0, 0), variances (1.0, 0.0009118819655545162) and weight 0.5\n",
      "2022-03-30 00:53:59,796 - bbb.models.layers - INFO - Biases Prior: Gaussian mixture with means (0, 0), variances (1.0, 0.0009118819655545162) and weight 0.5\n"
     ]
    },
    {
     "name": "stdout",
     "output_type": "stream",
     "text": [
      "bnn_mog_1200 0.01562\n"
     ]
    },
    {
     "name": "stderr",
     "output_type": "stream",
     "text": [
      "2022-03-30 00:54:47,391 - bbb.models.layers - INFO - Weights Prior: Gaussian mixture with means (0, 0), variances (1.0, 0.0009118819655545162) and weight 0.5\n",
      "2022-03-30 00:54:47,392 - bbb.models.layers - INFO - Biases Prior: Gaussian mixture with means (0, 0), variances (1.0, 0.0009118819655545162) and weight 0.5\n",
      "2022-03-30 00:54:47,394 - bbb.models.layers - INFO - Weights Prior: Gaussian mixture with means (0, 0), variances (1.0, 0.0009118819655545162) and weight 0.5\n",
      "2022-03-30 00:54:47,394 - bbb.models.layers - INFO - Biases Prior: Gaussian mixture with means (0, 0), variances (1.0, 0.0009118819655545162) and weight 0.5\n",
      "2022-03-30 00:54:47,396 - bbb.models.layers - INFO - Weights Prior: Gaussian mixture with means (0, 0), variances (1.0, 0.0009118819655545162) and weight 0.5\n",
      "2022-03-30 00:54:47,396 - bbb.models.layers - INFO - Biases Prior: Gaussian mixture with means (0, 0), variances (1.0, 0.0009118819655545162) and weight 0.5\n"
     ]
    },
    {
     "name": "stdout",
     "output_type": "stream",
     "text": [
      "bnn_mog_800 0.01793\n",
      "bnn_mog_400 0.01472\n",
      "dnn_1200 0.01693\n",
      "dnn_800 0.01703\n",
      "dnn_400 0.01953\n",
      "dnn_600_1200 0.01883\n",
      "dnn_do_400 0.01272\n",
      "dnn_do_800 0.01462\n",
      "dnn_do_1200 0.01532\n",
      "dnn_do_600_1200 0.01372\n"
     ]
    }
   ],
   "source": [
    "another_dict = {}\n",
    "eval_dict = {}\n",
    "for MODEL in MODEL_DETAILS_DICT.keys():\n",
    "    net, params = load_model(MODEL)\n",
    "    eval_metric = np.load(os.path.join(MODEL_DETAILS_DICT[MODEL].dir, 'eval_metric.npy'))\n",
    "    res = evaluate_classifier(net, X_val)\n",
    "\n",
    "    test_error = 1 - res['eval_score'].item()\n",
    "\n",
    "    eval_dict[MODEL] = round(1-eval_metric[-1], 5)\n",
    "\n",
    "    another_dict[MODEL] = test_error\n",
    "    \n",
    "    print(MODEL, round(test_error, 5))"
   ]
  },
  {
   "cell_type": "code",
   "execution_count": 50,
   "metadata": {},
   "outputs": [
    {
     "name": "stdout",
     "output_type": "stream",
     "text": [
      "bnn_sgp_1200 0.0150241\n",
      "bnn_sgp_800 0.0168269\n",
      "bnn_sgp_400 0.0164263\n",
      "bnn_sgp_600_1200 0.0135216\n",
      "bnn_sgp_600_800 0.0119191\n",
      "bnn_sgp_600_400 0.013121\n",
      "bnn_mog_600_1200 0.0145232\n",
      "bnn_mog_600_800 0.0142227\n",
      "bnn_mog_600_400 0.0142227\n",
      "bnn_mog_1200 0.015625\n",
      "bnn_mog_800 0.0179287\n",
      "bnn_mog_400 0.0147235\n",
      "dnn_1200 0.0169271\n",
      "dnn_800 0.0170273\n",
      "dnn_400 0.0195312\n",
      "dnn_600_1200 0.0188301\n",
      "dnn_do_400 0.0127203\n",
      "dnn_do_800 0.0146234\n",
      "dnn_do_1200 0.0153245\n",
      "dnn_do_600_1200 0.0137219\n"
     ]
    }
   ],
   "source": [
    "for name, ter in another_dict.items():\n",
    "    print(name, round(ter, 7))"
   ]
  },
  {
   "cell_type": "code",
   "execution_count": 51,
   "metadata": {},
   "outputs": [
    {
     "name": "stdout",
     "output_type": "stream",
     "text": [
      "bnn_sgp_1200 0.01362\n",
      "bnn_sgp_800 0.01502\n",
      "bnn_sgp_400 0.01442\n",
      "bnn_sgp_600_1200 0.01152\n",
      "bnn_sgp_600_800 0.01252\n",
      "bnn_sgp_600_400 0.01382\n",
      "bnn_mog_600_1200 0.01412\n",
      "bnn_mog_600_800 0.01442\n",
      "bnn_mog_600_400 0.01442\n",
      "bnn_mog_1200 0.01482\n",
      "bnn_mog_800 0.01562\n",
      "bnn_mog_400 0.01472\n",
      "dnn_1200 0.01663\n",
      "dnn_800 0.01683\n",
      "dnn_400 0.02043\n",
      "dnn_600_1200 0.01893\n",
      "dnn_do_400 0.01332\n",
      "dnn_do_800 0.01412\n",
      "dnn_do_1200 0.01522\n",
      "dnn_do_600_1200 0.01372\n"
     ]
    }
   ],
   "source": [
    "for name, ter in eval_dict.items():\n",
    "    print(name, round(ter, 7))"
   ]
  },
  {
   "cell_type": "code",
   "execution_count": null,
   "metadata": {},
   "outputs": [],
   "source": []
  }
 ],
 "metadata": {
  "interpreter": {
   "hash": "5270afc4e1f7b529d51c14a6012429c52c3dbf5c86ddd8dcac8bfb87e34d88eb"
  },
  "kernelspec": {
   "display_name": "Python 3.9.9 ('env': venv)",
   "language": "python",
   "name": "python3"
  },
  "language_info": {
   "codemirror_mode": {
    "name": "ipython",
    "version": 3
   },
   "file_extension": ".py",
   "mimetype": "text/x-python",
   "name": "python",
   "nbconvert_exporter": "python",
   "pygments_lexer": "ipython3",
   "version": "3.9.9"
  },
  "orig_nbformat": 4
 },
 "nbformat": 4,
 "nbformat_minor": 2
}
